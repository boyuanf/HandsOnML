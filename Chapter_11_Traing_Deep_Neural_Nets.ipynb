{
 "cells": [
  {
   "cell_type": "markdown",
   "metadata": {
    "collapsed": true
   },
   "source": [
    "# Deep Learning"
   ]
  },
  {
   "cell_type": "code",
   "execution_count": 2,
   "metadata": {},
   "outputs": [],
   "source": [
    "# to make this notebook's output stable across runs\n",
    "def reset_graph(seed=42):\n",
    "    tf.reset_default_graph()\n",
    "    tf.set_random_seed(seed)\n",
    "    np.random.seed(seed)"
   ]
  },
  {
   "cell_type": "code",
   "execution_count": 7,
   "metadata": {},
   "outputs": [],
   "source": [
    "def create_placeholders(n_x):\n",
    "    \"\"\"\n",
    "    Creates the placeholders for the tensorflow session.\n",
    "    \n",
    "    Arguments:\n",
    "    n_x -- scalar, size of an image vector (num_px * num_px = 64 * 64 * 3 = 12288)\n",
    "    n_y -- scalar, number of classes (from 0 to 5, so -> 6)\n",
    "    \n",
    "    Returns:\n",
    "    X -- placeholder for the data input, of shape [n_x, None] and dtype \"float\"\n",
    "    Y -- placeholder for the input labels, of shape [n_y, None] and dtype \"float\"\n",
    "    \n",
    "    Tips:\n",
    "    - You will use None because it let's us be flexible on the number of examples you will for the placeholders.\n",
    "      In fact, the number of examples during test/train is different.\n",
    "    \"\"\"\n",
    "    \n",
    "    X = tf.placeholder(tf.float32, shape=(None, n_x), name=\"X\")\n",
    "    Y = tf.placeholder(tf.int64, shape=(None,), name=\"Y\")\n",
    "    training = tf.placeholder_with_default(False, shape=(), name='training')  # istraining flag for batch_normalization()\n",
    "    \n",
    "    return X, Y, training"
   ]
  },
  {
   "cell_type": "code",
   "execution_count": 8,
   "metadata": {},
   "outputs": [],
   "source": [
    "def forward_propagation(X, layer_hidden_nums, training, dropout_rate, regularizer_scale):\n",
    "    \"\"\"\n",
    "    Implements the forward propagation for the model\n",
    "    \n",
    "    Arguments:\n",
    "    X -- input dataset placeholder, of shape (input size, number of examples)\n",
    "\n",
    "    Returns:\n",
    "    Z5 -- the output of the last LINEAR unit\n",
    "    \"\"\"\n",
    "    he_init = tf.contrib.layers.variance_scaling_initializer()\n",
    "    l1_regularizer = tf.contrib.layers.l1_regularizer(regularizer_scale) \n",
    "    \n",
    "    A_drop = X\n",
    "    for layer_index, layer_neurons in enumerate(layer_hidden_nums[:-1]):\n",
    "        Z = tf.layers.dense(inputs=A_drop, units=layer_neurons, kernel_initializer=he_init, kernel_regularizer=l1_regularizer, name=\"hidden%d\" % (layer_index + 1))\n",
    "        Z_nor = tf.layers.batch_normalization(Z, training=training, momentum=0.9)\n",
    "        A = tf.nn.elu(Z_nor)\n",
    "        A_drop = tf.layers.dropout(A, dropout_rate, training=training, name=\"hidden%d_drop\" % (layer_index + 1))\n",
    "        \n",
    "    # don't do normalization for the output layer\n",
    "    Z_output = tf.layers.dense(inputs=A_drop, units=layer_hidden_nums[-1], kernel_initializer=he_init, name=\"output\")\n",
    "    #Z_output_nor = tf.layers.batch_normalization(Z_output, training=training, momentum=0.9)\n",
    "    \n",
    "    return Z_output"
   ]
  },
  {
   "cell_type": "code",
   "execution_count": 15,
   "metadata": {},
   "outputs": [],
   "source": [
    "def compute_cost(Z_output, Y):\n",
    "    \"\"\"\n",
    "    Computes the cost\n",
    "    \n",
    "    Arguments:\n",
    "    Z_output -- output of forward propagation (output of the last LINEAR unit), of shape (number of examples, layer_hidden_nums[4]=1)\n",
    "    Y -- label, size of (number of examples, 1)\n",
    "    \n",
    "    Returns:\n",
    "    cost - Tensor of the cost function\n",
    "    \"\"\"\n",
    "\n",
    "    cost = tf.reduce_mean(tf.nn.sparse_softmax_cross_entropy_with_logits(labels=Y, logits=Z_output))   \n",
    "    return cost"
   ]
  },
  {
   "cell_type": "code",
   "execution_count": 10,
   "metadata": {},
   "outputs": [],
   "source": [
    "import numpy as np\n",
    "import tensorflow as tf\n",
    "import matplotlib.pyplot as plt\n",
    "\n",
    "\n",
    "def model(X_train, Y_train, X_test, Y_test, learning_rate=0.0001, dropout_rate=0.1, regularizer_scale=0.01,\n",
    "          num_epochs=120, minibatch_size=32, print_cost=True):\n",
    "    (m, n_x) = X_train.shape\n",
    "    costs = []                                        # To keep track of the cost\n",
    "    X, Y, training = create_placeholders(n_x)\n",
    "    layer_hidden_nums = [200, 100, 50, 25, 5]\n",
    "    Z5 = forward_propagation(X, layer_hidden_nums, training, dropout_rate, regularizer_scale)\n",
    "    cost = compute_cost(Z5, Y)\n",
    "    optimizer = tf.train.AdamOptimizer(learning_rate = learning_rate).minimize(cost)\n",
    "    correct = tf.nn.in_top_k(Z5, Y, 1)\n",
    "    accuracy = tf.reduce_mean(tf.cast(correct, tf.float32), name='accuracy')\n",
    "    \n",
    "    # Initialize all the variables\n",
    "    init = tf.global_variables_initializer()\n",
    "    saver = tf.train.Saver()\n",
    "    \n",
    "    # Start the session to compute the tensorflow graph\n",
    "    with tf.Session() as sess:\n",
    "        # Run the initialization\n",
    "        sess.run(init)\n",
    "        for epoch in range(num_epochs):\n",
    "            epoch_cost = 0\n",
    "            shuffled_idx = np.random.permutation(m)\n",
    "            num_minibatches = X_train.shape[0] // minibatch_size\n",
    "            batches = np.array_split(shuffled_idx, num_minibatches)\n",
    "            \n",
    "            for batch in batches:\n",
    "                X_batch, Y_batch = X_train[batch], Y_train[batch]\n",
    "                # for training, need to set flag training of batch_normalization() to true\n",
    "                _, minibatch_cost = sess.run([optimizer, cost], feed_dict={training: True, X: X_batch, Y: Y_batch})  \n",
    "                epoch_cost += minibatch_cost / num_minibatches\n",
    "                \n",
    "            if epoch % 10 == 0:\n",
    "                acc_train = accuracy.eval(feed_dict={X: X_train, Y: Y_train})  # for testing, leave training param for batch_normalization() to false\n",
    "                acc_test = accuracy.eval(feed_dict={X: X_test, Y: Y_test})\n",
    "                print(epoch, \"Train accuracy: \", acc_train, \"Test accuracy: \", acc_test)\n",
    "            # Print the cost every epoch\n",
    "            if print_cost is True and epoch % 20 == 0:\n",
    "                print (\"Cost after epoch %i: %f\" % (epoch, epoch_cost))\n",
    "            if print_cost is True and epoch % 5 == 0:\n",
    "                costs.append(epoch_cost)\n",
    "                \n",
    "        # plot the cost\n",
    "        plt.plot(np.squeeze(costs))\n",
    "        plt.ylabel('cost')\n",
    "        plt.xlabel('iterations (per tens)')\n",
    "        plt.title(\"Learning rate =\" + str(learning_rate))\n",
    "        plt.show()\n",
    "        \n",
    "        save_path = saver.save(sess, \"C:\\Boyuan\\MyPython\\SavedModel\\FiveLayerNNForMNist\\my_model_final.ckpt\")"
   ]
  },
  {
   "cell_type": "code",
   "execution_count": 50,
   "metadata": {},
   "outputs": [
    {
     "name": "stdout",
     "output_type": "stream",
     "text": [
      "Extracting /tmp/data/train-images-idx3-ubyte.gz\n"
     ]
    },
    {
     "name": "stdout",
     "output_type": "stream",
     "text": [
      "Extracting /tmp/data/train-labels-idx1-ubyte.gz\nExtracting /tmp/data/t10k-images-idx3-ubyte.gz\nExtracting /tmp/data/t10k-labels-idx1-ubyte.gz\n"
     ]
    }
   ],
   "source": [
    "from tensorflow.examples.tutorials.mnist import input_data\n",
    "\n",
    "mnist = input_data.read_data_sets(\"/tmp/data/\")\n",
    "X_train1 = mnist.train.images[mnist.train.labels < 5]\n",
    "y_train1 = mnist.train.labels[mnist.train.labels < 5]\n",
    "X_valid1 = mnist.validation.images[mnist.validation.labels < 5]\n",
    "y_valid1 = mnist.validation.labels[mnist.validation.labels < 5]\n",
    "X_test1 = mnist.test.images[mnist.test.labels < 5]\n",
    "y_test1 = mnist.test.labels[mnist.test.labels < 5]"
   ]
  },
  {
   "cell_type": "code",
   "execution_count": 2,
   "metadata": {},
   "outputs": [
    {
     "data": {
      "text/plain": [
       "(28038, 784)"
      ]
     },
     "execution_count": 2,
     "metadata": {},
     "output_type": "execute_result"
    }
   ],
   "source": [
    "X_train1.shape"
   ]
  },
  {
   "cell_type": "code",
   "execution_count": 3,
   "metadata": {},
   "outputs": [
    {
     "data": {
      "text/plain": [
       "28038"
      ]
     },
     "execution_count": 3,
     "metadata": {},
     "output_type": "execute_result"
    }
   ],
   "source": [
    "len(X_train1)"
   ]
  },
  {
   "cell_type": "code",
   "execution_count": 10,
   "metadata": {},
   "outputs": [
    {
     "data": {
      "text/plain": [
       "(28038,)"
      ]
     },
     "execution_count": 10,
     "metadata": {},
     "output_type": "execute_result"
    }
   ],
   "source": [
    "y_train1.shape"
   ]
  },
  {
   "cell_type": "code",
   "execution_count": 41,
   "metadata": {},
   "outputs": [
    {
     "data": {
      "text/plain": [
       "array([3, 4, 1, ..., 2, 1, 3], dtype=uint8)"
      ]
     },
     "execution_count": 41,
     "metadata": {},
     "output_type": "execute_result"
    }
   ],
   "source": [
    "y_train1"
   ]
  },
  {
   "cell_type": "code",
   "execution_count": 12,
   "metadata": {
    "collapsed": true
   },
   "outputs": [
    {
     "name": "stdout",
     "output_type": "stream",
     "text": [
      "0 Train accuracy:  0.953206 Test accuracy:  0.955633\nCost after epoch 0: 0.410409\n"
     ]
    },
    {
     "name": "stdout",
     "output_type": "stream",
     "text": [
      "10 Train accuracy:  0.961802 Test accuracy:  0.95505\n"
     ]
    },
    {
     "name": "stdout",
     "output_type": "stream",
     "text": [
      "20 Train accuracy:  0.957986 Test accuracy:  0.94999\nCost after epoch 20: 0.027612\n"
     ]
    },
    {
     "name": "stdout",
     "output_type": "stream",
     "text": [
      "30 Train accuracy:  0.965796 Test accuracy:  0.956996\n"
     ]
    },
    {
     "name": "stdout",
     "output_type": "stream",
     "text": [
      "40 Train accuracy:  0.962265 Test accuracy:  0.957774\nCost after epoch 40: 0.014173\n"
     ]
    },
    {
     "name": "stdout",
     "output_type": "stream",
     "text": [
      "50 Train accuracy:  0.977138 Test accuracy:  0.965363\n"
     ]
    },
    {
     "name": "stdout",
     "output_type": "stream",
     "text": [
      "60 Train accuracy:  0.984307 Test accuracy:  0.977038\nCost after epoch 60: 0.012476\n"
     ]
    },
    {
     "name": "stdout",
     "output_type": "stream",
     "text": [
      "70 Train accuracy:  0.981026 Test accuracy:  0.974509\n"
     ]
    },
    {
     "name": "stdout",
     "output_type": "stream",
     "text": [
      "80 Train accuracy:  0.967936 Test accuracy:  0.962444\nCost after epoch 80: 0.006885\n"
     ]
    },
    {
     "name": "stdout",
     "output_type": "stream",
     "text": [
      "90 Train accuracy:  0.977994 Test accuracy:  0.968087\n"
     ]
    },
    {
     "name": "stdout",
     "output_type": "stream",
     "text": [
      "100 Train accuracy:  0.996433 Test accuracy:  0.988714\nCost after epoch 100: 0.005754\n"
     ]
    },
    {
     "name": "stdout",
     "output_type": "stream",
     "text": [
      "110 Train accuracy:  0.991155 Test accuracy:  0.983071\n"
     ]
    },
    {
     "data": {
      "image/png": "[encoded data removed]",
      "text/plain": [
       "<matplotlib.figure.Figure at 0x252ea09e668>"
      ]
     },
     "metadata": {},
     "output_type": "display_data"
    }
   ],
   "source": [
    "reset_graph()\n",
    "\n",
    "model(X_train1, y_train1, X_test1, y_test1)"
   ]
  },
  {
   "cell_type": "markdown",
   "metadata": {},
   "source": [
    "# Transfer Learning"
   ]
  },
  {
   "cell_type": "markdown",
   "metadata": {},
   "source": [
    "## 1. Reuse and freez layers before output layer ## "
   ]
  },
  {
   "cell_type": "code",
   "execution_count": 105,
   "metadata": {
    "collapsed": false
   },
   "outputs": [],
   "source": [
    "import tensorflow as tf\n",
    "import numpy as np\n",
    "\n",
    "reset_graph()\n",
    "saver = tf.train.import_meta_graph(\"C:\\Boyuan\\MyPython\\SavedModel\\FiveLayerNNForMNist\\my_model_final.ckpt.meta\")\n",
    "for op in tf.get_default_graph().get_operations():\n",
    "    print(op.name)"
   ]
  },
  {
   "cell_type": "code",
   "execution_count": 52,
   "metadata": {},
   "outputs": [],
   "source": [
    "from IPython.display import clear_output, Image, display, HTML\n",
    "\n",
    "def strip_consts(graph_def, max_const_size=32):\n",
    "    \"\"\"Strip large constant values from graph_def.\"\"\"\n",
    "    strip_def = tf.GraphDef()\n",
    "    for n0 in graph_def.node:\n",
    "        n = strip_def.node.add() \n",
    "        n.MergeFrom(n0)\n",
    "        if n.op == 'Const':\n",
    "            tensor = n.attr['value'].tensor\n",
    "            size = len(tensor.tensor_content)\n",
    "            if size > max_const_size:\n",
    "                tensor.tensor_content = b\"<stripped %d bytes>\"%size\n",
    "    return strip_def\n",
    "\n",
    "def show_graph(graph_def, max_const_size=32):\n",
    "    \"\"\"Visualize TensorFlow graph.\"\"\"\n",
    "    if hasattr(graph_def, 'as_graph_def'):\n",
    "        graph_def = graph_def.as_graph_def()\n",
    "    strip_def = strip_consts(graph_def, max_const_size=max_const_size)\n",
    "    code = \"\"\"\n",
    "        <script>\n",
    "          function load() {{\n",
    "            document.getElementById(\"{id}\").pbtxt = {data};\n",
    "          }}\n",
    "        </script>\n",
    "        <link rel=\"import\" href=\"https://tensorboard.appspot.com/tf-graph-basic.build.html\" onload=load()>\n",
    "        <div style=\"height:600px\">\n",
    "          <tf-graph-basic id=\"{id}\"></tf-graph-basic>\n",
    "        </div>\n",
    "    \"\"\".format(data=repr(str(strip_def)), id='graph'+str(np.random.rand()))\n",
    "\n",
    "    iframe = \"\"\"\n",
    "        <iframe seamless style=\"width:1200px;height:620px;border:0\" srcdoc=\"{}\"></iframe>\n",
    "    \"\"\".format(code.replace('\"', '&quot;'))\n",
    "    display(HTML(iframe))"
   ]
  },
  {
   "cell_type": "code",
   "execution_count": 19,
   "metadata": {},
   "outputs": [],
   "source": [
    "show_graph(tf.get_default_graph())"
   ]
  },
  {
   "cell_type": "code",
   "execution_count": 53,
   "metadata": {},
   "outputs": [],
   "source": [
    "reset_graph()"
   ]
  },
  {
   "cell_type": "code",
   "execution_count": 54,
   "metadata": {},
   "outputs": [],
   "source": [
    "def restore_placeholders():\n",
    "    X = tf.get_default_graph().get_tensor_by_name(\"X:0\")\n",
    "    Y = tf.get_default_graph().get_tensor_by_name(\"Y:0\")\n",
    "    return X, Y"
   ]
  },
  {
   "cell_type": "code",
   "execution_count": 13,
   "metadata": {},
   "outputs": [],
   "source": [
    "def restore_forward_propagation(output_neural_num, regularizer_scale):\n",
    "    he_init = tf.contrib.layers.variance_scaling_initializer()\n",
    "    l1_regularizer = tf.contrib.layers.l1_regularizer(regularizer_scale)\n",
    "    \n",
    "    hidden4 = tf.get_default_graph().get_tensor_by_name(\"hidden4_drop/cond/Merge:0\")\n",
    "    Z_output_new = tf.layers.dense(inputs=hidden4, units=output_neural_num, kernel_initializer=he_init, kernel_regularizer=l1_regularizer, name=\"output_new\")\n",
    "    return Z_output_new"
   ]
  },
  {
   "cell_type": "code",
   "execution_count": 103,
   "metadata": {
    "collapsed": false
   },
   "outputs": [
    {
     "data": {
      "text/plain": [
       "[<tf.Variable 'hidden1/kernel:0' shape=(784, 200) dtype=float32_ref>,\n <tf.Variable 'hidden1/bias:0' shape=(200,) dtype=float32_ref>,\n <tf.Variable 'batch_normalization/gamma:0' shape=(200,) dtype=float32_ref>,\n <tf.Variable 'batch_normalization/beta:0' shape=(200,) dtype=float32_ref>,\n <tf.Variable 'hidden2/kernel:0' shape=(200, 100) dtype=float32_ref>,\n <tf.Variable 'hidden2/bias:0' shape=(100,) dtype=float32_ref>,\n <tf.Variable 'batch_normalization_1/gamma:0' shape=(100,) dtype=float32_ref>,\n <tf.Variable 'batch_normalization_1/beta:0' shape=(100,) dtype=float32_ref>,\n <tf.Variable 'hidden3/kernel:0' shape=(100, 50) dtype=float32_ref>,\n <tf.Variable 'hidden3/bias:0' shape=(50,) dtype=float32_ref>,\n <tf.Variable 'batch_normalization_2/gamma:0' shape=(50,) dtype=float32_ref>,\n <tf.Variable 'batch_normalization_2/beta:0' shape=(50,) dtype=float32_ref>,\n <tf.Variable 'hidden4/kernel:0' shape=(50, 25) dtype=float32_ref>,\n <tf.Variable 'hidden4/bias:0' shape=(25,) dtype=float32_ref>,\n <tf.Variable 'batch_normalization_3/gamma:0' shape=(25,) dtype=float32_ref>,\n <tf.Variable 'batch_normalization_3/beta:0' shape=(25,) dtype=float32_ref>,\n <tf.Variable 'output/kernel:0' shape=(25, 5) dtype=float32_ref>,\n <tf.Variable 'output/bias:0' shape=(5,) dtype=float32_ref>,\n <tf.Variable 'output_new/kernel:0' shape=(25, 5) dtype=float32_ref>,\n <tf.Variable 'output_new/bias:0' shape=(5,) dtype=float32_ref>]"
      ]
     },
     "execution_count": 103,
     "metadata": {},
     "output_type": "execute_result"
    }
   ],
   "source": [
    "train_vars = tf.get_collection(tf.GraphKeys.TRAINABLE_VARIABLES)\n",
    "train_vars"
   ]
  },
  {
   "cell_type": "code",
   "execution_count": 26,
   "metadata": {},
   "outputs": [],
   "source": [
    "import matplotlib.pyplot as plt\n",
    "import time\n",
    "\n",
    "\n",
    "def restore_model(X_train, Y_train, X_test, Y_test, learning_rate=0.0001, regularizer_scale=0.01,\n",
    "          num_epochs=300, minibatch_size=32, print_cost=True):\n",
    "    (m, n_x) = X_train.shape\n",
    "    costs = []                                        # To keep track of the cost\n",
    "    saver = tf.train.import_meta_graph(\"C:\\Boyuan\\MyPython\\SavedModel\\FiveLayerNNForMNist\\my_model_final.ckpt.meta\")\n",
    "    X, Y = restore_placeholders()\n",
    "    output_neural_num = 5\n",
    "    Z5 = restore_forward_propagation(output_neural_num, regularizer_scale)\n",
    "    with tf.name_scope(\"new_loss\"):\n",
    "        cost = compute_cost(Z5, Y)\n",
    "    with tf.name_scope(\"new_train\"):\n",
    "        train_vars = tf.get_collection(tf.GraphKeys.TRAINABLE_VARIABLES, scope=\"output_new\")\n",
    "        optimizer = tf.train.AdamOptimizer(learning_rate=learning_rate, name='Adam_New')\\\n",
    "                            .minimize(cost, var_list=train_vars)\n",
    "    with tf.name_scope(\"new_eval\"):\n",
    "        correct = tf.nn.in_top_k(Z5, Y, 1)\n",
    "        accuracy = tf.reduce_mean(tf.cast(correct, tf.float32), name='accuracy')\n",
    "    \n",
    "    # Initialize all the variables\n",
    "    init = tf.global_variables_initializer()\n",
    "    new_saver = tf.train.Saver()\n",
    "    \n",
    "    # Start the session to compute the tensorflow graph\n",
    "    with tf.Session() as sess:\n",
    "        # Run the initialization\n",
    "        sess.run(init)\n",
    "        saver.restore(sess, \"C:\\Boyuan\\MyPython\\SavedModel\\FiveLayerNNForMNist\\my_model_final.ckpt\")\n",
    "        \n",
    "        t_total = 0\n",
    "        \n",
    "        for epoch in range(num_epochs):\n",
    "            epoch_cost = 0\n",
    "            shuffled_idx = np.random.permutation(m)\n",
    "            num_minibatches = X_train.shape[0] // minibatch_size\n",
    "            batches = np.array_split(shuffled_idx, num_minibatches)\n",
    "            \n",
    "            t0 = time.time()\n",
    "            \n",
    "            for batch in batches:\n",
    "                X_batch, Y_batch = X_train[batch], Y_train[batch]\n",
    "                # for training, need to set flag training of batch_normalization() to true\n",
    "                _, minibatch_cost = sess.run([optimizer, cost], feed_dict={X: X_batch, Y: Y_batch})  \n",
    "                epoch_cost += minibatch_cost / num_minibatches\n",
    "            \n",
    "            t1 = time.time()\n",
    "            t_total += (t1 - t0)\n",
    "            \n",
    "            if epoch % 100 == 0:\n",
    "                acc_train = accuracy.eval(feed_dict={X: X_train, Y: Y_train})  # for testing, leave training param for batch_normalization() to false\n",
    "                acc_test = accuracy.eval(feed_dict={X: X_test, Y: Y_test})\n",
    "                print(epoch, \"Train accuracy: \", acc_train, \"Test accuracy: \", acc_test)\n",
    "            # Print the cost every epoch\n",
    "            if print_cost is True and epoch % 100 == 0:\n",
    "                print (\"Cost after epoch %i: %f\" % (epoch, epoch_cost))\n",
    "            if print_cost is True and epoch % 5 == 0:\n",
    "                costs.append(epoch_cost)\n",
    "        \n",
    "        print(\"Total training time: {:.1f}s\".format(t_total))\n",
    "                \n",
    "        # plot the cost\n",
    "        plt.plot(np.squeeze(costs))\n",
    "        plt.ylabel('cost')\n",
    "        plt.xlabel('iterations (per tens)')\n",
    "        plt.title(\"Learning rate =\" + str(learning_rate))\n",
    "        plt.show()\n",
    "        \n",
    "        save_path = new_saver.save(sess, \"C:\\Boyuan\\MyPython\\SavedModel\\FiveLayerNNForMNist_New\\my_model_final.ckpt\")"
   ]
  },
  {
   "cell_type": "code",
   "execution_count": 5,
   "metadata": {},
   "outputs": [
    {
     "name": "stdout",
     "output_type": "stream",
     "text": [
      "Extracting /tmp/data/train-images-idx3-ubyte.gz\n"
     ]
    },
    {
     "name": "stdout",
     "output_type": "stream",
     "text": [
      "Extracting /tmp/data/train-labels-idx1-ubyte.gz\nExtracting /tmp/data/t10k-images-idx3-ubyte.gz\nExtracting /tmp/data/t10k-labels-idx1-ubyte.gz\n"
     ]
    }
   ],
   "source": [
    "from tensorflow.examples.tutorials.mnist import input_data\n",
    "\n",
    "mnist = input_data.read_data_sets(\"/tmp/data/\")\n",
    "X_train2_full = mnist.train.images[mnist.train.labels >= 5]\n",
    "y_train2_full = mnist.train.labels[mnist.train.labels >= 5] - 5\n",
    "X_valid2_full = mnist.validation.images[mnist.validation.labels >= 5]\n",
    "y_valid2_full = mnist.validation.labels[mnist.validation.labels >= 5] - 5\n",
    "X_test2 = mnist.test.images[mnist.test.labels >= 5]\n",
    "y_test2 = mnist.test.labels[mnist.test.labels >= 5] - 5"
   ]
  },
  {
   "cell_type": "code",
   "execution_count": 6,
   "metadata": {},
   "outputs": [],
   "source": [
    "def sample_n_instance_per_class(X, y, n=100):\n",
    "    Xs, ys = [], []\n",
    "    for label in np.unique(y):\n",
    "        index = (y == label)\n",
    "        X_index = X[index][:n]\n",
    "        y_index = y[index][:n]\n",
    "        Xs.append(X_index)\n",
    "        ys.append(y_index)\n",
    "    return np.concatenate(Xs), np.concatenate(ys)    "
   ]
  },
  {
   "cell_type": "code",
   "execution_count": 7,
   "metadata": {},
   "outputs": [],
   "source": [
    "X_train2, y_train2 = sample_n_instance_per_class(X_train2_full, y_train2_full, n=100)\n",
    "X_valid2, y_valid2 = sample_n_instance_per_class(X_valid2_full, y_valid2_full, 30)"
   ]
  },
  {
   "cell_type": "code",
   "execution_count": 89,
   "metadata": {},
   "outputs": [
    {
     "data": {
      "text/plain": [
       "(500, 784)"
      ]
     },
     "execution_count": 89,
     "metadata": {},
     "output_type": "execute_result"
    }
   ],
   "source": [
    "X_train2.shape"
   ]
  },
  {
   "cell_type": "code",
   "execution_count": 90,
   "metadata": {},
   "outputs": [
    {
     "data": {
      "text/plain": [
       "(500,)"
      ]
     },
     "execution_count": 90,
     "metadata": {},
     "output_type": "execute_result"
    }
   ],
   "source": [
    "y_train2.shape"
   ]
  },
  {
   "cell_type": "code",
   "execution_count": 27,
   "metadata": {},
   "outputs": [
    {
     "name": "stdout",
     "output_type": "stream",
     "text": [
      "INFO:tensorflow:Restoring parameters from C:\\Boyuan\\MyPython\\SavedModel\\FiveLayerNNForMNist\\my_model_final.ckpt\n"
     ]
    },
    {
     "name": "stdout",
     "output_type": "stream",
     "text": [
      "0 Train accuracy:  0.2 Test accuracy:  0.160667\nCost after epoch 0: 3.790387\n"
     ]
    },
    {
     "name": "stdout",
     "output_type": "stream",
     "text": [
      "100 Train accuracy:  0.742 Test accuracy:  0.703559\nCost after epoch 100: 0.760816\n"
     ]
    },
    {
     "name": "stdout",
     "output_type": "stream",
     "text": [
      "200 Train accuracy:  0.8 Test accuracy:  0.743674\nCost after epoch 200: 0.601591\n"
     ]
    },
    {
     "name": "stdout",
     "output_type": "stream",
     "text": [
      "300 Train accuracy:  0.832 Test accuracy:  0.757663\nCost after epoch 300: 0.530518\n"
     ]
    },
    {
     "name": "stdout",
     "output_type": "stream",
     "text": [
      "400 Train accuracy:  0.852 Test accuracy:  0.764246\nCost after epoch 400: 0.489803\n"
     ]
    },
    {
     "name": "stdout",
     "output_type": "stream",
     "text": [
      "500 Train accuracy:  0.858 Test accuracy:  0.768155\nCost after epoch 500: 0.464171\n"
     ]
    },
    {
     "name": "stdout",
     "output_type": "stream",
     "text": [
      "600 Train accuracy:  0.868 Test accuracy:  0.770829\nCost after epoch 600: 0.446915\n"
     ]
    },
    {
     "name": "stdout",
     "output_type": "stream",
     "text": [
      "700 Train accuracy:  0.868 Test accuracy:  0.77124\nCost after epoch 700: 0.432890\n"
     ]
    },
    {
     "name": "stdout",
     "output_type": "stream",
     "text": [
      "800 Train accuracy:  0.87 Test accuracy:  0.771652\nCost after epoch 800: 0.423068\n"
     ]
    },
    {
     "name": "stdout",
     "output_type": "stream",
     "text": [
      "900 Train accuracy:  0.876 Test accuracy:  0.772269\nCost after epoch 900: 0.414426\n"
     ]
    },
    {
     "name": "stdout",
     "output_type": "stream",
     "text": [
      "Total training time: 46.5s\n"
     ]
    },
    {
     "data": {
      "image/png": "[encoded data removed]",
      "text/plain": [
       "<matplotlib.figure.Figure at 0x22ad6fc5b00>"
      ]
     },
     "metadata": {},
     "output_type": "display_data"
    }
   ],
   "source": [
    "reset_graph()\n",
    "\n",
    "restore_model(X_train2, y_train2, X_test2, y_test2, num_epochs=1000, minibatch_size=24, learning_rate=0.0005)"
   ]
  },
  {
   "cell_type": "markdown",
   "metadata": {},
   "source": [
    "## 2. Caching the frozen layers ## "
   ]
  },
  {
   "cell_type": "code",
   "execution_count": 24,
   "metadata": {},
   "outputs": [],
   "source": [
    "import numpy as np\n",
    "import tensorflow as tf\n",
    "import matplotlib.pyplot as plt\n",
    "import time\n",
    "\n",
    "def restore_model_with_caching(X_train, Y_train, X_test, Y_test, learning_rate=0.0001, regularizer_scale=0.01,\n",
    "          num_epochs=300, minibatch_size=32, print_cost=True):\n",
    "    (m, n_x) = X_train.shape\n",
    "    costs = []                                        # To keep track of the cost\n",
    "    saver = tf.train.import_meta_graph(\"C:\\Boyuan\\MyPython\\SavedModel\\FiveLayerNNForMNist\\my_model_final.ckpt.meta\")\n",
    "    X, Y = restore_placeholders()\n",
    "    output_neural_num = 5\n",
    "    Z5 = restore_forward_propagation(output_neural_num, regularizer_scale)\n",
    "    with tf.name_scope(\"new_loss\"):\n",
    "        cost = compute_cost(Z5, Y)\n",
    "    with tf.name_scope(\"new_train\"):\n",
    "        train_vars = tf.get_collection(tf.GraphKeys.TRAINABLE_VARIABLES, scope=\"output_new\")\n",
    "        optimizer = tf.train.AdamOptimizer(learning_rate=learning_rate, name='Adam_New')\\\n",
    "                            .minimize(cost, var_list=train_vars)\n",
    "    with tf.name_scope(\"new_eval\"):\n",
    "        correct = tf.nn.in_top_k(Z5, Y, 1)\n",
    "        accuracy = tf.reduce_mean(tf.cast(correct, tf.float32), name='accuracy')\n",
    "    \n",
    "    hidden4 = tf.get_default_graph().get_tensor_by_name(\"hidden4_drop/cond/Merge:0\")\n",
    "    \n",
    "    # Initialize all the variables\n",
    "    init = tf.global_variables_initializer()\n",
    "    new_saver = tf.train.Saver()\n",
    "    \n",
    "    # Start the session to compute the tensorflow graph\n",
    "    with tf.Session() as sess:\n",
    "        # Run the initialization\n",
    "        sess.run(init)\n",
    "        saver.restore(sess, \"C:\\Boyuan\\MyPython\\SavedModel\\FiveLayerNNForMNist\\my_model_final.ckpt\")\n",
    "        \n",
    "        hidden4_train = hidden4.eval(feed_dict={X: X_train, Y: Y_train})\n",
    "        \n",
    "        t_total = 0\n",
    "        \n",
    "        for epoch in range(num_epochs):\n",
    "            epoch_cost = 0\n",
    "            shuffled_idx = np.random.permutation(m)\n",
    "            num_minibatches = X_train.shape[0] // minibatch_size\n",
    "            batches = np.array_split(shuffled_idx, num_minibatches)\n",
    "            \n",
    "            t0 = time.time()\n",
    "            \n",
    "            for batch in batches:\n",
    "                hidden4_batch, Y_batch = hidden4_train[batch], Y_train[batch]\n",
    "                # for training, need to set flag training of batch_normalization() to true\n",
    "                _, minibatch_cost = sess.run([optimizer, cost], feed_dict={hidden4: hidden4_batch, Y: Y_batch})  \n",
    "                epoch_cost += minibatch_cost / num_minibatches\n",
    "                \n",
    "            t1 = time.time()\n",
    "            t_total += (t1 - t0)\n",
    "                \n",
    "            if epoch % 100 == 0:\n",
    "                acc_train = accuracy.eval(feed_dict={X: X_train, Y: Y_train})  # for testing, leave training param for batch_normalization() to false\n",
    "                acc_test = accuracy.eval(feed_dict={X: X_test, Y: Y_test})\n",
    "                print(epoch, \"Train accuracy: \", acc_train, \"Test accuracy: \", acc_test)\n",
    "            # Print the cost every epoch\n",
    "            if print_cost is True and epoch % 100 == 0:\n",
    "                print (\"Cost after epoch %i: %f\" % (epoch, epoch_cost))\n",
    "            if print_cost is True and epoch % 5 == 0:\n",
    "                costs.append(epoch_cost)\n",
    "        \n",
    "        print(\"Total training time: {:.1f}s\".format(t_total))\n",
    "        \n",
    "        # plot the cost\n",
    "        plt.plot(np.squeeze(costs))\n",
    "        plt.ylabel('cost')\n",
    "        plt.xlabel('iterations (per tens)')\n",
    "        plt.title(\"Learning rate =\" + str(learning_rate))\n",
    "        plt.show()\n",
    "        \n",
    "        save_path = new_saver.save(sess, \"C:\\Boyuan\\MyPython\\SavedModel\\FiveLayerNNForMNist_New\\my_model_final.ckpt\")"
   ]
  },
  {
   "cell_type": "code",
   "execution_count": 25,
   "metadata": {
    "collapsed": false
   },
   "outputs": [
    {
     "name": "stdout",
     "output_type": "stream",
     "text": [
      "INFO:tensorflow:Restoring parameters from C:\\Boyuan\\MyPython\\SavedModel\\FiveLayerNNForMNist\\my_model_final.ckpt\n"
     ]
    },
    {
     "name": "stdout",
     "output_type": "stream",
     "text": [
      "0 Train accuracy:  0.2 Test accuracy:  0.160667\nCost after epoch 0: 3.790387\n"
     ]
    },
    {
     "name": "stdout",
     "output_type": "stream",
     "text": [
      "100 Train accuracy:  0.742 Test accuracy:  0.703559\nCost after epoch 100: 0.760816\n"
     ]
    },
    {
     "name": "stdout",
     "output_type": "stream",
     "text": [
      "200 Train accuracy:  0.8 Test accuracy:  0.743674\nCost after epoch 200: 0.601591\n"
     ]
    },
    {
     "name": "stdout",
     "output_type": "stream",
     "text": [
      "300 Train accuracy:  0.832 Test accuracy:  0.757663\nCost after epoch 300: 0.530518\n"
     ]
    },
    {
     "name": "stdout",
     "output_type": "stream",
     "text": [
      "400 Train accuracy:  0.852 Test accuracy:  0.764246\nCost after epoch 400: 0.489803\n"
     ]
    },
    {
     "name": "stdout",
     "output_type": "stream",
     "text": [
      "500 Train accuracy:  0.858 Test accuracy:  0.768155\nCost after epoch 500: 0.464171\n"
     ]
    },
    {
     "name": "stdout",
     "output_type": "stream",
     "text": [
      "600 Train accuracy:  0.868 Test accuracy:  0.770829\nCost after epoch 600: 0.446915\n"
     ]
    },
    {
     "name": "stdout",
     "output_type": "stream",
     "text": [
      "700 Train accuracy:  0.868 Test accuracy:  0.77124\nCost after epoch 700: 0.432890\n"
     ]
    },
    {
     "name": "stdout",
     "output_type": "stream",
     "text": [
      "800 Train accuracy:  0.87 Test accuracy:  0.771652\nCost after epoch 800: 0.423068\n"
     ]
    },
    {
     "name": "stdout",
     "output_type": "stream",
     "text": [
      "900 Train accuracy:  0.876 Test accuracy:  0.772269\nCost after epoch 900: 0.414426\n"
     ]
    },
    {
     "name": "stdout",
     "output_type": "stream",
     "text": [
      "Total training time: 12.2s\n"
     ]
    },
    {
     "data": {
      "image/png": "[encoded data removed]",
      "text/plain": [
       "<matplotlib.figure.Figure at 0x22adac867f0>"
      ]
     },
     "metadata": {},
     "output_type": "display_data"
    }
   ],
   "source": [
    "reset_graph()\n",
    "\n",
    "restore_model_with_caching(X_train2, y_train2, X_test2, y_test2, num_epochs=1000, minibatch_size=24, learning_rate=0.0005)"
   ]
  },
  {
   "cell_type": "markdown",
   "metadata": {},
   "source": [
    "Conclusion: Compared to the restore_model() which comsumes 45s, the restore_model_with_caching() only uses 12s, almost four times faster"
   ]
  },
  {
   "cell_type": "code",
   "execution_count": null,
   "metadata": {},
   "outputs": [],
   "source": []
  }
 ],
 "metadata": {
  "kernelspec": {
   "display_name": "Python 2",
   "language": "python",
   "name": "python2"
  },
  "language_info": {
   "codemirror_mode": {
    "name": "ipython",
    "version": 2
   },
   "file_extension": ".py",
   "mimetype": "text/x-python",
   "name": "python",
   "nbconvert_exporter": "python",
   "pygments_lexer": "ipython2",
   "version": "2.7.6"
  }
 },
 "nbformat": 4,
 "nbformat_minor": 0
}
