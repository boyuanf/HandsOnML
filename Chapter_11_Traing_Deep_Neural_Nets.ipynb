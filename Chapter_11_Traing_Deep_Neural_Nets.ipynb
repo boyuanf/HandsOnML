{
 "cells": [
  {
   "cell_type": "markdown",
   "metadata": {
    "collapsed": true
   },
   "source": [
    "# Deep Learning"
   ]
  },
  {
   "cell_type": "code",
   "execution_count": 6,
   "metadata": {},
   "outputs": [],
   "source": [
    "# to make this notebook's output stable across runs\n",
    "def reset_graph(seed=42):\n",
    "    tf.reset_default_graph()\n",
    "    tf.set_random_seed(seed)\n",
    "    np.random.seed(seed)"
   ]
  },
  {
   "cell_type": "code",
   "execution_count": 7,
   "metadata": {},
   "outputs": [],
   "source": [
    "def create_placeholders(n_x):\n",
    "    \"\"\"\n",
    "    Creates the placeholders for the tensorflow session.\n",
    "    \n",
    "    Arguments:\n",
    "    n_x -- scalar, size of an image vector (num_px * num_px = 64 * 64 * 3 = 12288)\n",
    "    n_y -- scalar, number of classes (from 0 to 5, so -> 6)\n",
    "    \n",
    "    Returns:\n",
    "    X -- placeholder for the data input, of shape [n_x, None] and dtype \"float\"\n",
    "    Y -- placeholder for the input labels, of shape [n_y, None] and dtype \"float\"\n",
    "    \n",
    "    Tips:\n",
    "    - You will use None because it let's us be flexible on the number of examples you will for the placeholders.\n",
    "      In fact, the number of examples during test/train is different.\n",
    "    \"\"\"\n",
    "    \n",
    "    X = tf.placeholder(tf.float32, shape=(None, n_x), name=\"X\")\n",
    "    Y = tf.placeholder(tf.int64, shape=(None,), name=\"Y\")\n",
    "    training = tf.placeholder_with_default(False, shape=(), name='training')  # istraining flag for batch_normalization()\n",
    "    \n",
    "    return X, Y, training"
   ]
  },
  {
   "cell_type": "code",
   "execution_count": 8,
   "metadata": {},
   "outputs": [],
   "source": [
    "def forward_propagation(X, layer_hidden_nums, training, dropout_rate, regularizer_scale):\n",
    "    \"\"\"\n",
    "    Implements the forward propagation for the model\n",
    "    \n",
    "    Arguments:\n",
    "    X -- input dataset placeholder, of shape (input size, number of examples)\n",
    "\n",
    "    Returns:\n",
    "    Z5 -- the output of the last LINEAR unit\n",
    "    \"\"\"\n",
    "    he_init = tf.contrib.layers.variance_scaling_initializer()\n",
    "    l1_regularizer = tf.contrib.layers.l1_regularizer(regularizer_scale) \n",
    "    \n",
    "    A_drop = X\n",
    "    for layer_index, layer_neurons in enumerate(layer_hidden_nums[:-1]):\n",
    "        Z = tf.layers.dense(inputs=A_drop, units=layer_neurons, kernel_initializer=he_init, kernel_regularizer=l1_regularizer, name=\"hidden%d\" % (layer_index + 1))\n",
    "        Z_nor = tf.layers.batch_normalization(Z, training=training, momentum=0.9)\n",
    "        A = tf.nn.elu(Z_nor)\n",
    "        A_drop = tf.layers.dropout(A, dropout_rate, training=training, name=\"hidden%d_drop\" % (layer_index + 1))\n",
    "        \n",
    "    # don't do normalization for the output layer\n",
    "    Z_output = tf.layers.dense(inputs=A_drop, units=layer_hidden_nums[-1], kernel_initializer=he_init, name=\"output\")\n",
    "    #Z_output_nor = tf.layers.batch_normalization(Z_output, training=training, momentum=0.9)\n",
    "    \n",
    "    return Z_output"
   ]
  },
  {
   "cell_type": "code",
   "execution_count": 9,
   "metadata": {},
   "outputs": [],
   "source": [
    "def compute_cost(Z_output, Y):\n",
    "    \"\"\"\n",
    "    Computes the cost\n",
    "    \n",
    "    Arguments:\n",
    "    Z_output -- output of forward propagation (output of the last LINEAR unit), of shape (number of examples, layer_hidden_nums[4]=1)\n",
    "    Y -- label, size of (number of examples, 1)\n",
    "    \n",
    "    Returns:\n",
    "    cost - Tensor of the cost function\n",
    "    \"\"\"\n",
    "\n",
    "    cost = tf.reduce_mean(tf.nn.sparse_softmax_cross_entropy_with_logits(labels=Y, logits=Z_output))   \n",
    "    return cost"
   ]
  },
  {
   "cell_type": "code",
   "execution_count": 10,
   "metadata": {},
   "outputs": [],
   "source": [
    "import numpy as np\n",
    "import tensorflow as tf\n",
    "import matplotlib.pyplot as plt\n",
    "\n",
    "\n",
    "def model(X_train, Y_train, X_test, Y_test, learning_rate=0.0001, dropout_rate=0.1, regularizer_scale=0.01,\n",
    "          num_epochs=120, minibatch_size=32, print_cost=True):\n",
    "    (m, n_x) = X_train.shape\n",
    "    costs = []                                        # To keep track of the cost\n",
    "    X, Y, training = create_placeholders(n_x)\n",
    "    layer_hidden_nums = [200, 100, 50, 25, 5]\n",
    "    Z5 = forward_propagation(X, layer_hidden_nums, training, dropout_rate, regularizer_scale)\n",
    "    cost = compute_cost(Z5, Y)\n",
    "    optimizer = tf.train.AdamOptimizer(learning_rate = learning_rate).minimize(cost)\n",
    "    correct = tf.nn.in_top_k(Z5, Y, 1)\n",
    "    accuracy = tf.reduce_mean(tf.cast(correct, tf.float32))\n",
    "    \n",
    "    # Initialize all the variables\n",
    "    init = tf.global_variables_initializer()\n",
    "    saver = tf.train.Saver()\n",
    "    \n",
    "    # Start the session to compute the tensorflow graph\n",
    "    with tf.Session() as sess:\n",
    "        # Run the initialization\n",
    "        sess.run(init)\n",
    "        for epoch in range(num_epochs):\n",
    "            epoch_cost = 0\n",
    "            shuffled_idx = np.random.permutation(m)\n",
    "            num_minibatches = X_train.shape[0] // minibatch_size\n",
    "            batches = np.array_split(shuffled_idx, num_minibatches)\n",
    "            \n",
    "            for batch in batches:\n",
    "                X_batch, Y_batch = X_train[batch], Y_train[batch]\n",
    "                # for training, need to set flag training of batch_normalization() to true\n",
    "                _, minibatch_cost = sess.run([optimizer, cost], feed_dict={training: True, X: X_batch, Y: Y_batch})  \n",
    "                epoch_cost += minibatch_cost / num_minibatches\n",
    "                \n",
    "            if epoch % 10 == 0:\n",
    "                acc_train = accuracy.eval(feed_dict={X: X_train, Y: Y_train})  # for testing, leave training param for batch_normalization() to false\n",
    "                acc_test = accuracy.eval(feed_dict={X: X_test, Y: Y_test})\n",
    "                print(epoch, \"Train accuracy: \", acc_train, \"Test accuracy: \", acc_test)\n",
    "            # Print the cost every epoch\n",
    "            if print_cost is True and epoch % 20 == 0:\n",
    "                print (\"Cost after epoch %i: %f\" % (epoch, epoch_cost))\n",
    "            if print_cost is True and epoch % 5 == 0:\n",
    "                costs.append(epoch_cost)\n",
    "                \n",
    "        # plot the cost\n",
    "        plt.plot(np.squeeze(costs))\n",
    "        plt.ylabel('cost')\n",
    "        plt.xlabel('iterations (per tens)')\n",
    "        plt.title(\"Learning rate =\" + str(learning_rate))\n",
    "        plt.show()\n",
    "        \n",
    "        save_path = saver.save(sess, \"C:\\Boyuan\\MyPython\\SavedModel\\FiveLayerNNForMNist\\my_model_final.ckpt\")"
   ]
  },
  {
   "cell_type": "code",
   "execution_count": 11,
   "metadata": {},
   "outputs": [
    {
     "name": "stdout",
     "output_type": "stream",
     "text": [
      "Extracting /tmp/data/train-images-idx3-ubyte.gz\n"
     ]
    },
    {
     "name": "stdout",
     "output_type": "stream",
     "text": [
      "Extracting /tmp/data/train-labels-idx1-ubyte.gz\nExtracting /tmp/data/t10k-images-idx3-ubyte.gz\nExtracting /tmp/data/t10k-labels-idx1-ubyte.gz\n"
     ]
    }
   ],
   "source": [
    "from tensorflow.examples.tutorials.mnist import input_data\n",
    "\n",
    "mnist = input_data.read_data_sets(\"/tmp/data/\")\n",
    "X_train1 = mnist.train.images[mnist.train.labels < 5]\n",
    "y_train1 = mnist.train.labels[mnist.train.labels < 5]\n",
    "X_valid1 = mnist.validation.images[mnist.validation.labels < 5]\n",
    "y_valid1 = mnist.validation.labels[mnist.validation.labels < 5]\n",
    "X_test1 = mnist.test.images[mnist.test.labels < 5]\n",
    "y_test1 = mnist.test.labels[mnist.test.labels < 5]"
   ]
  },
  {
   "cell_type": "code",
   "execution_count": 2,
   "metadata": {},
   "outputs": [
    {
     "data": {
      "text/plain": [
       "(28038, 784)"
      ]
     },
     "execution_count": 2,
     "metadata": {},
     "output_type": "execute_result"
    }
   ],
   "source": [
    "X_train1.shape"
   ]
  },
  {
   "cell_type": "code",
   "execution_count": 3,
   "metadata": {},
   "outputs": [
    {
     "data": {
      "text/plain": [
       "28038"
      ]
     },
     "execution_count": 3,
     "metadata": {},
     "output_type": "execute_result"
    }
   ],
   "source": [
    "len(X_train1)"
   ]
  },
  {
   "cell_type": "code",
   "execution_count": 10,
   "metadata": {},
   "outputs": [
    {
     "data": {
      "text/plain": [
       "(28038,)"
      ]
     },
     "execution_count": 10,
     "metadata": {},
     "output_type": "execute_result"
    }
   ],
   "source": [
    "y_train1.shape"
   ]
  },
  {
   "cell_type": "code",
   "execution_count": 41,
   "metadata": {},
   "outputs": [
    {
     "data": {
      "text/plain": [
       "array([3, 4, 1, ..., 2, 1, 3], dtype=uint8)"
      ]
     },
     "execution_count": 41,
     "metadata": {},
     "output_type": "execute_result"
    }
   ],
   "source": [
    "y_train1"
   ]
  },
  {
   "cell_type": "code",
   "execution_count": 12,
   "metadata": {
    "collapsed": true
   },
   "outputs": [
    {
     "name": "stdout",
     "output_type": "stream",
     "text": [
      "0 Train accuracy:  0.953206 Test accuracy:  0.955633\nCost after epoch 0: 0.410409\n"
     ]
    },
    {
     "name": "stdout",
     "output_type": "stream",
     "text": [
      "10 Train accuracy:  0.961802 Test accuracy:  0.95505\n"
     ]
    },
    {
     "name": "stdout",
     "output_type": "stream",
     "text": [
      "20 Train accuracy:  0.957986 Test accuracy:  0.94999\nCost after epoch 20: 0.027612\n"
     ]
    },
    {
     "name": "stdout",
     "output_type": "stream",
     "text": [
      "30 Train accuracy:  0.965796 Test accuracy:  0.956996\n"
     ]
    },
    {
     "name": "stdout",
     "output_type": "stream",
     "text": [
      "40 Train accuracy:  0.962265 Test accuracy:  0.957774\nCost after epoch 40: 0.014173\n"
     ]
    },
    {
     "name": "stdout",
     "output_type": "stream",
     "text": [
      "50 Train accuracy:  0.977138 Test accuracy:  0.965363\n"
     ]
    },
    {
     "name": "stdout",
     "output_type": "stream",
     "text": [
      "60 Train accuracy:  0.984307 Test accuracy:  0.977038\nCost after epoch 60: 0.012476\n"
     ]
    },
    {
     "name": "stdout",
     "output_type": "stream",
     "text": [
      "70 Train accuracy:  0.981026 Test accuracy:  0.974509\n"
     ]
    },
    {
     "name": "stdout",
     "output_type": "stream",
     "text": [
      "80 Train accuracy:  0.967936 Test accuracy:  0.962444\nCost after epoch 80: 0.006885\n"
     ]
    },
    {
     "name": "stdout",
     "output_type": "stream",
     "text": [
      "90 Train accuracy:  0.977994 Test accuracy:  0.968087\n"
     ]
    },
    {
     "name": "stdout",
     "output_type": "stream",
     "text": [
      "100 Train accuracy:  0.996433 Test accuracy:  0.988714\nCost after epoch 100: 0.005754\n"
     ]
    },
    {
     "name": "stdout",
     "output_type": "stream",
     "text": [
      "110 Train accuracy:  0.991155 Test accuracy:  0.983071\n"
     ]
    },
    {
     "data": {
      "image/png": "[encoded data removed]",
      "text/plain": [
       "<matplotlib.figure.Figure at 0x252ea09e668>"
      ]
     },
     "metadata": {},
     "output_type": "display_data"
    }
   ],
   "source": [
    "reset_graph()\n",
    "\n",
    "model(X_train1, y_train1, X_test1, y_test1)"
   ]
  },
  {
   "cell_type": "markdown",
   "metadata": {},
   "source": [
    "# Transfer Learning"
   ]
  },
  {
   "cell_type": "code",
   "execution_count": 15,
   "metadata": {
    "collapsed": false
   },
   "outputs": [
    {
     "name": "stdout",
     "output_type": "stream",
     "text": [
      "X\nY\ntraining/input\ntraining\nhidden1/kernel/Initializer/truncated_normal/shape\nhidden1/kernel/Initializer/truncated_normal/mean\nhidden1/kernel/Initializer/truncated_normal/stddev\nhidden1/kernel/Initializer/truncated_normal/TruncatedNormal\nhidden1/kernel/Initializer/truncated_normal/mul\nhidden1/kernel/Initializer/truncated_normal\nhidden1/kernel\nhidden1/kernel/Assign\nhidden1/kernel/read\nhidden1/kernel/Regularizer/l1_regularizer/scale\nhidden1/kernel/Regularizer/l1_regularizer/Abs\nhidden1/kernel/Regularizer/l1_regularizer/Const\nhidden1/kernel/Regularizer/l1_regularizer/Sum\nhidden1/kernel/Regularizer/l1_regularizer\nhidden1/bias/Initializer/zeros\nhidden1/bias\nhidden1/bias/Assign\nhidden1/bias/read\nhidden1/MatMul\nhidden1/BiasAdd\nbatch_normalization/gamma/Initializer/ones\nbatch_normalization/gamma\nbatch_normalization/gamma/Assign\nbatch_normalization/gamma/read\nbatch_normalization/beta/Initializer/zeros\nbatch_normalization/beta\nbatch_normalization/beta/Assign\nbatch_normalization/beta/read\nbatch_normalization/moving_mean/Initializer/zeros\nbatch_normalization/moving_mean\nbatch_normalization/moving_mean/Assign\nbatch_normalization/moving_mean/read\nbatch_normalization/moving_variance/Initializer/ones\nbatch_normalization/moving_variance\nbatch_normalization/moving_variance/Assign\nbatch_normalization/moving_variance/read\nbatch_normalization/moments/mean/reduction_indices\nbatch_normalization/moments/mean\nbatch_normalization/moments/StopGradient\nbatch_normalization/moments/SquaredDifference\nbatch_normalization/moments/variance/reduction_indices\nbatch_normalization/moments/variance\nbatch_normalization/moments/Squeeze\nbatch_normalization/moments/Squeeze_1\nbatch_normalization/ExpandDims/dim\nbatch_normalization/ExpandDims\nbatch_normalization/ExpandDims_1/dim\nbatch_normalization/ExpandDims_1\nbatch_normalization/Reshape/shape\nbatch_normalization/Reshape\nbatch_normalization/Select\nbatch_normalization/Squeeze\nbatch_normalization/ExpandDims_2/dim\nbatch_normalization/ExpandDims_2\nbatch_normalization/ExpandDims_3/dim\nbatch_normalization/ExpandDims_3\nbatch_normalization/Reshape_1/shape\nbatch_normalization/Reshape_1\nbatch_normalization/Select_1\nbatch_normalization/Squeeze_1\nbatch_normalization/ExpandDims_4/input\nbatch_normalization/ExpandDims_4/dim\nbatch_normalization/ExpandDims_4\nbatch_normalization/ExpandDims_5/input\nbatch_normalization/ExpandDims_5/dim\nbatch_normalization/ExpandDims_5\nbatch_normalization/Reshape_2/shape\nbatch_normalization/Reshape_2\nbatch_normalization/Select_2\nbatch_normalization/Squeeze_2\nbatch_normalization/AssignMovingAvg/sub/x\nbatch_normalization/AssignMovingAvg/sub\nbatch_normalization/AssignMovingAvg/sub_1\nbatch_normalization/AssignMovingAvg/mul\nbatch_normalization/AssignMovingAvg\nbatch_normalization/AssignMovingAvg_1/sub/x\nbatch_normalization/AssignMovingAvg_1/sub\nbatch_normalization/AssignMovingAvg_1/sub_1\nbatch_normalization/AssignMovingAvg_1/mul\nbatch_normalization/AssignMovingAvg_1\nbatch_normalization/batchnorm/add/y\nbatch_normalization/batchnorm/add\nbatch_normalization/batchnorm/Rsqrt\nbatch_normalization/batchnorm/mul\nbatch_normalization/batchnorm/mul_1\nbatch_normalization/batchnorm/mul_2\nbatch_normalization/batchnorm/sub\nbatch_normalization/batchnorm/add_1\nElu\nhidden1_drop/cond/Switch\nhidden1_drop/cond/switch_t\nhidden1_drop/cond/switch_f\nhidden1_drop/cond/pred_id\nhidden1_drop/cond/dropout/keep_prob\nhidden1_drop/cond/dropout/Shape/Switch\nhidden1_drop/cond/dropout/Shape\nhidden1_drop/cond/dropout/random_uniform/min\nhidden1_drop/cond/dropout/random_uniform/max\nhidden1_drop/cond/dropout/random_uniform/RandomUniform\nhidden1_drop/cond/dropout/random_uniform/sub\nhidden1_drop/cond/dropout/random_uniform/mul\nhidden1_drop/cond/dropout/random_uniform\nhidden1_drop/cond/dropout/add\nhidden1_drop/cond/dropout/Floor\nhidden1_drop/cond/dropout/div\nhidden1_drop/cond/dropout/mul\nhidden1_drop/cond/Identity/Switch\nhidden1_drop/cond/Identity\nhidden1_drop/cond/Merge\nhidden2/kernel/Initializer/truncated_normal/shape\nhidden2/kernel/Initializer/truncated_normal/mean\nhidden2/kernel/Initializer/truncated_normal/stddev\nhidden2/kernel/Initializer/truncated_normal/TruncatedNormal\nhidden2/kernel/Initializer/truncated_normal/mul\nhidden2/kernel/Initializer/truncated_normal\nhidden2/kernel\nhidden2/kernel/Assign\nhidden2/kernel/read\nhidden2/kernel/Regularizer/l1_regularizer/scale\nhidden2/kernel/Regularizer/l1_regularizer/Abs\nhidden2/kernel/Regularizer/l1_regularizer/Const\nhidden2/kernel/Regularizer/l1_regularizer/Sum\nhidden2/kernel/Regularizer/l1_regularizer\nhidden2/bias/Initializer/zeros\nhidden2/bias\nhidden2/bias/Assign\nhidden2/bias/read\nhidden2/MatMul\nhidden2/BiasAdd\nbatch_normalization_1/gamma/Initializer/ones\nbatch_normalization_1/gamma\nbatch_normalization_1/gamma/Assign\nbatch_normalization_1/gamma/read\nbatch_normalization_1/beta/Initializer/zeros\nbatch_normalization_1/beta\nbatch_normalization_1/beta/Assign\nbatch_normalization_1/beta/read\nbatch_normalization_1/moving_mean/Initializer/zeros\nbatch_normalization_1/moving_mean\nbatch_normalization_1/moving_mean/Assign\nbatch_normalization_1/moving_mean/read\nbatch_normalization_1/moving_variance/Initializer/ones\nbatch_normalization_1/moving_variance\nbatch_normalization_1/moving_variance/Assign\nbatch_normalization_1/moving_variance/read\nbatch_normalization_2/moments/mean/reduction_indices\nbatch_normalization_2/moments/mean\nbatch_normalization_2/moments/StopGradient\nbatch_normalization_2/moments/SquaredDifference\nbatch_normalization_2/moments/variance/reduction_indices\nbatch_normalization_2/moments/variance\nbatch_normalization_2/moments/Squeeze\nbatch_normalization_2/moments/Squeeze_1\nbatch_normalization_2/ExpandDims/dim\nbatch_normalization_2/ExpandDims\nbatch_normalization_2/ExpandDims_1/dim\nbatch_normalization_2/ExpandDims_1\nbatch_normalization_2/Reshape/shape\nbatch_normalization_2/Reshape\nbatch_normalization_2/Select\nbatch_normalization_2/Squeeze\nbatch_normalization_2/ExpandDims_2/dim\nbatch_normalization_2/ExpandDims_2\nbatch_normalization_2/ExpandDims_3/dim\nbatch_normalization_2/ExpandDims_3\nbatch_normalization_2/Reshape_1/shape\nbatch_normalization_2/Reshape_1\nbatch_normalization_2/Select_1\nbatch_normalization_2/Squeeze_1\nbatch_normalization_2/ExpandDims_4/input\nbatch_normalization_2/ExpandDims_4/dim\nbatch_normalization_2/ExpandDims_4\nbatch_normalization_2/ExpandDims_5/input\nbatch_normalization_2/ExpandDims_5/dim\nbatch_normalization_2/ExpandDims_5\nbatch_normalization_2/Reshape_2/shape\nbatch_normalization_2/Reshape_2\nbatch_normalization_2/Select_2\nbatch_normalization_2/Squeeze_2\nbatch_normalization_2/AssignMovingAvg/sub/x\nbatch_normalization_2/AssignMovingAvg/sub\nbatch_normalization_2/AssignMovingAvg/sub_1\nbatch_normalization_2/AssignMovingAvg/mul\nbatch_normalization_2/AssignMovingAvg\nbatch_normalization_2/AssignMovingAvg_1/sub/x\nbatch_normalization_2/AssignMovingAvg_1/sub\nbatch_normalization_2/AssignMovingAvg_1/sub_1\nbatch_normalization_2/AssignMovingAvg_1/mul\nbatch_normalization_2/AssignMovingAvg_1\nbatch_normalization_2/batchnorm/add/y\nbatch_normalization_2/batchnorm/add\nbatch_normalization_2/batchnorm/Rsqrt\nbatch_normalization_2/batchnorm/mul\nbatch_normalization_2/batchnorm/mul_1\nbatch_normalization_2/batchnorm/mul_2\nbatch_normalization_2/batchnorm/sub\nbatch_normalization_2/batchnorm/add_1\nElu_1\nhidden2_drop/cond/Switch\nhidden2_drop/cond/switch_t\nhidden2_drop/cond/switch_f\nhidden2_drop/cond/pred_id\nhidden2_drop/cond/dropout/keep_prob\nhidden2_drop/cond/dropout/Shape/Switch\nhidden2_drop/cond/dropout/Shape\nhidden2_drop/cond/dropout/random_uniform/min\nhidden2_drop/cond/dropout/random_uniform/max\nhidden2_drop/cond/dropout/random_uniform/RandomUniform\nhidden2_drop/cond/dropout/random_uniform/sub\nhidden2_drop/cond/dropout/random_uniform/mul\nhidden2_drop/cond/dropout/random_uniform\nhidden2_drop/cond/dropout/add\nhidden2_drop/cond/dropout/Floor\nhidden2_drop/cond/dropout/div\nhidden2_drop/cond/dropout/mul\nhidden2_drop/cond/Identity/Switch\nhidden2_drop/cond/Identity\nhidden2_drop/cond/Merge\nhidden3/kernel/Initializer/truncated_normal/shape\nhidden3/kernel/Initializer/truncated_normal/mean\nhidden3/kernel/Initializer/truncated_normal/stddev\nhidden3/kernel/Initializer/truncated_normal/TruncatedNormal\nhidden3/kernel/Initializer/truncated_normal/mul\nhidden3/kernel/Initializer/truncated_normal\nhidden3/kernel\nhidden3/kernel/Assign\nhidden3/kernel/read\nhidden3/kernel/Regularizer/l1_regularizer/scale\nhidden3/kernel/Regularizer/l1_regularizer/Abs\nhidden3/kernel/Regularizer/l1_regularizer/Const\nhidden3/kernel/Regularizer/l1_regularizer/Sum\nhidden3/kernel/Regularizer/l1_regularizer\nhidden3/bias/Initializer/zeros\nhidden3/bias\nhidden3/bias/Assign\nhidden3/bias/read\nhidden3/MatMul\nhidden3/BiasAdd\nbatch_normalization_2/gamma/Initializer/ones\nbatch_normalization_2/gamma\nbatch_normalization_2/gamma/Assign\nbatch_normalization_2/gamma/read\nbatch_normalization_2/beta/Initializer/zeros\nbatch_normalization_2/beta\nbatch_normalization_2/beta/Assign\nbatch_normalization_2/beta/read\nbatch_normalization_2/moving_mean/Initializer/zeros\nbatch_normalization_2/moving_mean\nbatch_normalization_2/moving_mean/Assign\nbatch_normalization_2/moving_mean/read\nbatch_normalization_2/moving_variance/Initializer/ones\nbatch_normalization_2/moving_variance\nbatch_normalization_2/moving_variance/Assign\nbatch_normalization_2/moving_variance/read\nbatch_normalization_3/moments/mean/reduction_indices\nbatch_normalization_3/moments/mean\nbatch_normalization_3/moments/StopGradient\nbatch_normalization_3/moments/SquaredDifference\nbatch_normalization_3/moments/variance/reduction_indices\nbatch_normalization_3/moments/variance\nbatch_normalization_3/moments/Squeeze\nbatch_normalization_3/moments/Squeeze_1\nbatch_normalization_3/ExpandDims/dim\nbatch_normalization_3/ExpandDims\nbatch_normalization_3/ExpandDims_1/dim\nbatch_normalization_3/ExpandDims_1\nbatch_normalization_3/Reshape/shape\nbatch_normalization_3/Reshape\nbatch_normalization_3/Select\nbatch_normalization_3/Squeeze\nbatch_normalization_3/ExpandDims_2/dim\nbatch_normalization_3/ExpandDims_2\nbatch_normalization_3/ExpandDims_3/dim\nbatch_normalization_3/ExpandDims_3\nbatch_normalization_3/Reshape_1/shape\nbatch_normalization_3/Reshape_1\nbatch_normalization_3/Select_1\nbatch_normalization_3/Squeeze_1\nbatch_normalization_3/ExpandDims_4/input\nbatch_normalization_3/ExpandDims_4/dim\nbatch_normalization_3/ExpandDims_4\nbatch_normalization_3/ExpandDims_5/input\nbatch_normalization_3/ExpandDims_5/dim\nbatch_normalization_3/ExpandDims_5\nbatch_normalization_3/Reshape_2/shape\nbatch_normalization_3/Reshape_2\nbatch_normalization_3/Select_2\nbatch_normalization_3/Squeeze_2\nbatch_normalization_3/AssignMovingAvg/sub/x\nbatch_normalization_3/AssignMovingAvg/sub\nbatch_normalization_3/AssignMovingAvg/sub_1\nbatch_normalization_3/AssignMovingAvg/mul\nbatch_normalization_3/AssignMovingAvg\nbatch_normalization_3/AssignMovingAvg_1/sub/x\nbatch_normalization_3/AssignMovingAvg_1/sub\nbatch_normalization_3/AssignMovingAvg_1/sub_1\nbatch_normalization_3/AssignMovingAvg_1/mul\nbatch_normalization_3/AssignMovingAvg_1\nbatch_normalization_3/batchnorm/add/y\nbatch_normalization_3/batchnorm/add\nbatch_normalization_3/batchnorm/Rsqrt\nbatch_normalization_3/batchnorm/mul\nbatch_normalization_3/batchnorm/mul_1\nbatch_normalization_3/batchnorm/mul_2\nbatch_normalization_3/batchnorm/sub\nbatch_normalization_3/batchnorm/add_1\nElu_2\nhidden3_drop/cond/Switch\nhidden3_drop/cond/switch_t\nhidden3_drop/cond/switch_f\nhidden3_drop/cond/pred_id\nhidden3_drop/cond/dropout/keep_prob\nhidden3_drop/cond/dropout/Shape/Switch\nhidden3_drop/cond/dropout/Shape\nhidden3_drop/cond/dropout/random_uniform/min\nhidden3_drop/cond/dropout/random_uniform/max\nhidden3_drop/cond/dropout/random_uniform/RandomUniform\nhidden3_drop/cond/dropout/random_uniform/sub\nhidden3_drop/cond/dropout/random_uniform/mul\nhidden3_drop/cond/dropout/random_uniform\nhidden3_drop/cond/dropout/add\nhidden3_drop/cond/dropout/Floor\nhidden3_drop/cond/dropout/div\nhidden3_drop/cond/dropout/mul\nhidden3_drop/cond/Identity/Switch\nhidden3_drop/cond/Identity\nhidden3_drop/cond/Merge\nhidden4/kernel/Initializer/truncated_normal/shape\nhidden4/kernel/Initializer/truncated_normal/mean\nhidden4/kernel/Initializer/truncated_normal/stddev\nhidden4/kernel/Initializer/truncated_normal/TruncatedNormal\nhidden4/kernel/Initializer/truncated_normal/mul\nhidden4/kernel/Initializer/truncated_normal\nhidden4/kernel\nhidden4/kernel/Assign\nhidden4/kernel/read\nhidden4/kernel/Regularizer/l1_regularizer/scale\nhidden4/kernel/Regularizer/l1_regularizer/Abs\nhidden4/kernel/Regularizer/l1_regularizer/Const\nhidden4/kernel/Regularizer/l1_regularizer/Sum\nhidden4/kernel/Regularizer/l1_regularizer\nhidden4/bias/Initializer/zeros\nhidden4/bias\nhidden4/bias/Assign\nhidden4/bias/read\nhidden4/MatMul\nhidden4/BiasAdd\nbatch_normalization_3/gamma/Initializer/ones\nbatch_normalization_3/gamma\nbatch_normalization_3/gamma/Assign\nbatch_normalization_3/gamma/read\nbatch_normalization_3/beta/Initializer/zeros\nbatch_normalization_3/beta\nbatch_normalization_3/beta/Assign\nbatch_normalization_3/beta/read\nbatch_normalization_3/moving_mean/Initializer/zeros\nbatch_normalization_3/moving_mean\nbatch_normalization_3/moving_mean/Assign\nbatch_normalization_3/moving_mean/read\nbatch_normalization_3/moving_variance/Initializer/ones\nbatch_normalization_3/moving_variance\nbatch_normalization_3/moving_variance/Assign\nbatch_normalization_3/moving_variance/read\nbatch_normalization_4/moments/mean/reduction_indices\nbatch_normalization_4/moments/mean\nbatch_normalization_4/moments/StopGradient\nbatch_normalization_4/moments/SquaredDifference\nbatch_normalization_4/moments/variance/reduction_indices\nbatch_normalization_4/moments/variance\nbatch_normalization_4/moments/Squeeze\nbatch_normalization_4/moments/Squeeze_1\nbatch_normalization_4/ExpandDims/dim\nbatch_normalization_4/ExpandDims\nbatch_normalization_4/ExpandDims_1/dim\nbatch_normalization_4/ExpandDims_1\nbatch_normalization_4/Reshape/shape\nbatch_normalization_4/Reshape\nbatch_normalization_4/Select\nbatch_normalization_4/Squeeze\nbatch_normalization_4/ExpandDims_2/dim\nbatch_normalization_4/ExpandDims_2\nbatch_normalization_4/ExpandDims_3/dim\nbatch_normalization_4/ExpandDims_3\nbatch_normalization_4/Reshape_1/shape\nbatch_normalization_4/Reshape_1\nbatch_normalization_4/Select_1\nbatch_normalization_4/Squeeze_1\nbatch_normalization_4/ExpandDims_4/input\nbatch_normalization_4/ExpandDims_4/dim\nbatch_normalization_4/ExpandDims_4\nbatch_normalization_4/ExpandDims_5/input\nbatch_normalization_4/ExpandDims_5/dim\nbatch_normalization_4/ExpandDims_5\nbatch_normalization_4/Reshape_2/shape\nbatch_normalization_4/Reshape_2\nbatch_normalization_4/Select_2\nbatch_normalization_4/Squeeze_2\nbatch_normalization_4/AssignMovingAvg/sub/x\nbatch_normalization_4/AssignMovingAvg/sub\nbatch_normalization_4/AssignMovingAvg/sub_1\nbatch_normalization_4/AssignMovingAvg/mul\nbatch_normalization_4/AssignMovingAvg\nbatch_normalization_4/AssignMovingAvg_1/sub/x\nbatch_normalization_4/AssignMovingAvg_1/sub\nbatch_normalization_4/AssignMovingAvg_1/sub_1\nbatch_normalization_4/AssignMovingAvg_1/mul\nbatch_normalization_4/AssignMovingAvg_1\nbatch_normalization_4/batchnorm/add/y\nbatch_normalization_4/batchnorm/add\nbatch_normalization_4/batchnorm/Rsqrt\nbatch_normalization_4/batchnorm/mul\nbatch_normalization_4/batchnorm/mul_1\nbatch_normalization_4/batchnorm/mul_2\nbatch_normalization_4/batchnorm/sub\nbatch_normalization_4/batchnorm/add_1\nElu_3\nhidden4_drop/cond/Switch\nhidden4_drop/cond/switch_t\nhidden4_drop/cond/switch_f\nhidden4_drop/cond/pred_id\nhidden4_drop/cond/dropout/keep_prob\nhidden4_drop/cond/dropout/Shape/Switch\nhidden4_drop/cond/dropout/Shape\nhidden4_drop/cond/dropout/random_uniform/min\nhidden4_drop/cond/dropout/random_uniform/max\nhidden4_drop/cond/dropout/random_uniform/RandomUniform\nhidden4_drop/cond/dropout/random_uniform/sub\nhidden4_drop/cond/dropout/random_uniform/mul\nhidden4_drop/cond/dropout/random_uniform\nhidden4_drop/cond/dropout/add\nhidden4_drop/cond/dropout/Floor\nhidden4_drop/cond/dropout/div\nhidden4_drop/cond/dropout/mul\nhidden4_drop/cond/Identity/Switch\nhidden4_drop/cond/Identity\nhidden4_drop/cond/Merge\noutput/kernel/Initializer/truncated_normal/shape\noutput/kernel/Initializer/truncated_normal/mean\noutput/kernel/Initializer/truncated_normal/stddev\noutput/kernel/Initializer/truncated_normal/TruncatedNormal\noutput/kernel/Initializer/truncated_normal/mul\noutput/kernel/Initializer/truncated_normal\noutput/kernel\noutput/kernel/Assign\noutput/kernel/read\noutput/bias/Initializer/zeros\noutput/bias\noutput/bias/Assign\noutput/bias/read\noutput/MatMul\noutput/BiasAdd\nSparseSoftmaxCrossEntropyWithLogits/Shape\nSparseSoftmaxCrossEntropyWithLogits/SparseSoftmaxCrossEntropyWithLogits\nConst\nMean\ngradients/Shape\ngradients/Const\ngradients/Fill\ngradients/Mean_grad/Reshape/shape\ngradients/Mean_grad/Reshape\ngradients/Mean_grad/Shape\ngradients/Mean_grad/Tile\ngradients/Mean_grad/Shape_1\ngradients/Mean_grad/Shape_2\ngradients/Mean_grad/Const\ngradients/Mean_grad/Prod\ngradients/Mean_grad/Const_1\ngradients/Mean_grad/Prod_1\ngradients/Mean_grad/Maximum/y\ngradients/Mean_grad/Maximum\ngradients/Mean_grad/floordiv\ngradients/Mean_grad/Cast\ngradients/Mean_grad/truediv\ngradients/zeros_like\ngradients/SparseSoftmaxCrossEntropyWithLogits/SparseSoftmaxCrossEntropyWithLogits_grad/PreventGradient\ngradients/SparseSoftmaxCrossEntropyWithLogits/SparseSoftmaxCrossEntropyWithLogits_grad/ExpandDims/dim\ngradients/SparseSoftmaxCrossEntropyWithLogits/SparseSoftmaxCrossEntropyWithLogits_grad/ExpandDims\ngradients/SparseSoftmaxCrossEntropyWithLogits/SparseSoftmaxCrossEntropyWithLogits_grad/mul\ngradients/output/BiasAdd_grad/BiasAddGrad\ngradients/output/BiasAdd_grad/tuple/group_deps\ngradients/output/BiasAdd_grad/tuple/control_dependency\ngradients/output/BiasAdd_grad/tuple/control_dependency_1\ngradients/output/MatMul_grad/MatMul\ngradients/output/MatMul_grad/MatMul_1\ngradients/output/MatMul_grad/tuple/group_deps\ngradients/output/MatMul_grad/tuple/control_dependency\ngradients/output/MatMul_grad/tuple/control_dependency_1\ngradients/hidden4_drop/cond/Merge_grad/cond_grad\ngradients/hidden4_drop/cond/Merge_grad/tuple/group_deps\ngradients/hidden4_drop/cond/Merge_grad/tuple/control_dependency\ngradients/hidden4_drop/cond/Merge_grad/tuple/control_dependency_1\ngradients/hidden4_drop/cond/dropout/mul_grad/Shape\ngradients/hidden4_drop/cond/dropout/mul_grad/Shape_1\ngradients/hidden4_drop/cond/dropout/mul_grad/BroadcastGradientArgs\ngradients/hidden4_drop/cond/dropout/mul_grad/mul\ngradients/hidden4_drop/cond/dropout/mul_grad/Sum\ngradients/hidden4_drop/cond/dropout/mul_grad/Reshape\ngradients/hidden4_drop/cond/dropout/mul_grad/mul_1\ngradients/hidden4_drop/cond/dropout/mul_grad/Sum_1\ngradients/hidden4_drop/cond/dropout/mul_grad/Reshape_1\ngradients/hidden4_drop/cond/dropout/mul_grad/tuple/group_deps\ngradients/hidden4_drop/cond/dropout/mul_grad/tuple/control_dependency\ngradients/hidden4_drop/cond/dropout/mul_grad/tuple/control_dependency_1\ngradients/Switch\ngradients/Shape_1\ngradients/zeros/Const\ngradients/zeros\ngradients/hidden4_drop/cond/Identity/Switch_grad/cond_grad\ngradients/hidden4_drop/cond/dropout/div_grad/Shape\ngradients/hidden4_drop/cond/dropout/div_grad/Shape_1\ngradients/hidden4_drop/cond/dropout/div_grad/BroadcastGradientArgs\ngradients/hidden4_drop/cond/dropout/div_grad/RealDiv\ngradients/hidden4_drop/cond/dropout/div_grad/Sum\ngradients/hidden4_drop/cond/dropout/div_grad/Reshape\ngradients/hidden4_drop/cond/dropout/div_grad/Neg\ngradients/hidden4_drop/cond/dropout/div_grad/RealDiv_1\ngradients/hidden4_drop/cond/dropout/div_grad/RealDiv_2\ngradients/hidden4_drop/cond/dropout/div_grad/mul\ngradients/hidden4_drop/cond/dropout/div_grad/Sum_1\ngradients/hidden4_drop/cond/dropout/div_grad/Reshape_1\ngradients/hidden4_drop/cond/dropout/div_grad/tuple/group_deps\ngradients/hidden4_drop/cond/dropout/div_grad/tuple/control_dependency\ngradients/hidden4_drop/cond/dropout/div_grad/tuple/control_dependency_1\ngradients/Switch_1\ngradients/Shape_2\ngradients/zeros_1/Const\ngradients/zeros_1\ngradients/hidden4_drop/cond/dropout/Shape/Switch_grad/cond_grad\ngradients/AddN\ngradients/Elu_3_grad/EluGrad\ngradients/batch_normalization_4/batchnorm/add_1_grad/Shape\ngradients/batch_normalization_4/batchnorm/add_1_grad/Shape_1\ngradients/batch_normalization_4/batchnorm/add_1_grad/BroadcastGradientArgs\ngradients/batch_normalization_4/batchnorm/add_1_grad/Sum\ngradients/batch_normalization_4/batchnorm/add_1_grad/Reshape\ngradients/batch_normalization_4/batchnorm/add_1_grad/Sum_1\ngradients/batch_normalization_4/batchnorm/add_1_grad/Reshape_1\ngradients/batch_normalization_4/batchnorm/add_1_grad/tuple/group_deps\ngradients/batch_normalization_4/batchnorm/add_1_grad/tuple/control_dependency\ngradients/batch_normalization_4/batchnorm/add_1_grad/tuple/control_dependency_1\ngradients/batch_normalization_4/batchnorm/mul_1_grad/Shape\ngradients/batch_normalization_4/batchnorm/mul_1_grad/Shape_1\ngradients/batch_normalization_4/batchnorm/mul_1_grad/BroadcastGradientArgs\ngradients/batch_normalization_4/batchnorm/mul_1_grad/mul\ngradients/batch_normalization_4/batchnorm/mul_1_grad/Sum\ngradients/batch_normalization_4/batchnorm/mul_1_grad/Reshape\ngradients/batch_normalization_4/batchnorm/mul_1_grad/mul_1\ngradients/batch_normalization_4/batchnorm/mul_1_grad/Sum_1\ngradients/batch_normalization_4/batchnorm/mul_1_grad/Reshape_1\ngradients/batch_normalization_4/batchnorm/mul_1_grad/tuple/group_deps\ngradients/batch_normalization_4/batchnorm/mul_1_grad/tuple/control_dependency\ngradients/batch_normalization_4/batchnorm/mul_1_grad/tuple/control_dependency_1\ngradients/batch_normalization_4/batchnorm/sub_grad/Shape\ngradients/batch_normalization_4/batchnorm/sub_grad/Shape_1\ngradients/batch_normalization_4/batchnorm/sub_grad/BroadcastGradientArgs\ngradients/batch_normalization_4/batchnorm/sub_grad/Sum\ngradients/batch_normalization_4/batchnorm/sub_grad/Reshape\ngradients/batch_normalization_4/batchnorm/sub_grad/Sum_1\ngradients/batch_normalization_4/batchnorm/sub_grad/Neg\ngradients/batch_normalization_4/batchnorm/sub_grad/Reshape_1\ngradients/batch_normalization_4/batchnorm/sub_grad/tuple/group_deps\ngradients/batch_normalization_4/batchnorm/sub_grad/tuple/control_dependency\ngradients/batch_normalization_4/batchnorm/sub_grad/tuple/control_dependency_1\ngradients/batch_normalization_4/batchnorm/mul_2_grad/Shape\ngradients/batch_normalization_4/batchnorm/mul_2_grad/Shape_1\ngradients/batch_normalization_4/batchnorm/mul_2_grad/BroadcastGradientArgs\ngradients/batch_normalization_4/batchnorm/mul_2_grad/mul\ngradients/batch_normalization_4/batchnorm/mul_2_grad/Sum\ngradients/batch_normalization_4/batchnorm/mul_2_grad/Reshape\ngradients/batch_normalization_4/batchnorm/mul_2_grad/mul_1\ngradients/batch_normalization_4/batchnorm/mul_2_grad/Sum_1\ngradients/batch_normalization_4/batchnorm/mul_2_grad/Reshape_1\ngradients/batch_normalization_4/batchnorm/mul_2_grad/tuple/group_deps\ngradients/batch_normalization_4/batchnorm/mul_2_grad/tuple/control_dependency\ngradients/batch_normalization_4/batchnorm/mul_2_grad/tuple/control_dependency_1\ngradients/batch_normalization_4/Squeeze_grad/Shape\ngradients/batch_normalization_4/Squeeze_grad/Reshape\ngradients/AddN_1\ngradients/batch_normalization_4/batchnorm/mul_grad/Shape\ngradients/batch_normalization_4/batchnorm/mul_grad/Shape_1\ngradients/batch_normalization_4/batchnorm/mul_grad/BroadcastGradientArgs\ngradients/batch_normalization_4/batchnorm/mul_grad/mul\ngradients/batch_normalization_4/batchnorm/mul_grad/Sum\ngradients/batch_normalization_4/batchnorm/mul_grad/Reshape\ngradients/batch_normalization_4/batchnorm/mul_grad/mul_1\ngradients/batch_normalization_4/batchnorm/mul_grad/Sum_1\ngradients/batch_normalization_4/batchnorm/mul_grad/Reshape_1\ngradients/batch_normalization_4/batchnorm/mul_grad/tuple/group_deps\ngradients/batch_normalization_4/batchnorm/mul_grad/tuple/control_dependency\ngradients/batch_normalization_4/batchnorm/mul_grad/tuple/control_dependency_1\ngradients/batch_normalization_4/Select_grad/zeros_like\ngradients/batch_normalization_4/Select_grad/Select\ngradients/batch_normalization_4/Select_grad/Select_1\ngradients/batch_normalization_4/Select_grad/tuple/group_deps\ngradients/batch_normalization_4/Select_grad/tuple/control_dependency\ngradients/batch_normalization_4/Select_grad/tuple/control_dependency_1\ngradients/batch_normalization_4/batchnorm/Rsqrt_grad/RsqrtGrad\ngradients/batch_normalization_4/ExpandDims_grad/Shape\ngradients/batch_normalization_4/ExpandDims_grad/Reshape\ngradients/batch_normalization_4/batchnorm/add_grad/Shape\ngradients/batch_normalization_4/batchnorm/add_grad/Shape_1\ngradients/batch_normalization_4/batchnorm/add_grad/BroadcastGradientArgs\ngradients/batch_normalization_4/batchnorm/add_grad/Sum\ngradients/batch_normalization_4/batchnorm/add_grad/Reshape\ngradients/batch_normalization_4/batchnorm/add_grad/Sum_1\ngradients/batch_normalization_4/batchnorm/add_grad/Reshape_1\ngradients/batch_normalization_4/batchnorm/add_grad/tuple/group_deps\ngradients/batch_normalization_4/batchnorm/add_grad/tuple/control_dependency\ngradients/batch_normalization_4/batchnorm/add_grad/tuple/control_dependency_1\ngradients/batch_normalization_4/moments/Squeeze_grad/Shape\ngradients/batch_normalization_4/moments/Squeeze_grad/Reshape\ngradients/batch_normalization_4/Squeeze_1_grad/Shape\ngradients/batch_normalization_4/Squeeze_1_grad/Reshape\ngradients/batch_normalization_4/Select_1_grad/zeros_like\ngradients/batch_normalization_4/Select_1_grad/Select\ngradients/batch_normalization_4/Select_1_grad/Select_1\ngradients/batch_normalization_4/Select_1_grad/tuple/group_deps\ngradients/batch_normalization_4/Select_1_grad/tuple/control_dependency\ngradients/batch_normalization_4/Select_1_grad/tuple/control_dependency_1\ngradients/batch_normalization_4/ExpandDims_2_grad/Shape\ngradients/batch_normalization_4/ExpandDims_2_grad/Reshape\ngradients/batch_normalization_4/moments/Squeeze_1_grad/Shape\ngradients/batch_normalization_4/moments/Squeeze_1_grad/Reshape\ngradients/batch_normalization_4/moments/variance_grad/Shape\ngradients/batch_normalization_4/moments/variance_grad/Size\ngradients/batch_normalization_4/moments/variance_grad/add\ngradients/batch_normalization_4/moments/variance_grad/mod\ngradients/batch_normalization_4/moments/variance_grad/Shape_1\ngradients/batch_normalization_4/moments/variance_grad/range/start\ngradients/batch_normalization_4/moments/variance_grad/range/delta\ngradients/batch_normalization_4/moments/variance_grad/range\ngradients/batch_normalization_4/moments/variance_grad/Fill/value\ngradients/batch_normalization_4/moments/variance_grad/Fill\ngradients/batch_normalization_4/moments/variance_grad/DynamicStitch\ngradients/batch_normalization_4/moments/variance_grad/Maximum/y\ngradients/batch_normalization_4/moments/variance_grad/Maximum\ngradients/batch_normalization_4/moments/variance_grad/floordiv\ngradients/batch_normalization_4/moments/variance_grad/Reshape\ngradients/batch_normalization_4/moments/variance_grad/Tile\ngradients/batch_normalization_4/moments/variance_grad/Shape_2\ngradients/batch_normalization_4/moments/variance_grad/Shape_3\ngradients/batch_normalization_4/moments/variance_grad/Const\ngradients/batch_normalization_4/moments/variance_grad/Prod\ngradients/batch_normalization_4/moments/variance_grad/Const_1\ngradients/batch_normalization_4/moments/variance_grad/Prod_1\ngradients/batch_normalization_4/moments/variance_grad/Maximum_1/y\ngradients/batch_normalization_4/moments/variance_grad/Maximum_1\ngradients/batch_normalization_4/moments/variance_grad/floordiv_1\ngradients/batch_normalization_4/moments/variance_grad/Cast\ngradients/batch_normalization_4/moments/variance_grad/truediv\ngradients/batch_normalization_4/moments/SquaredDifference_grad/Shape\ngradients/batch_normalization_4/moments/SquaredDifference_grad/Shape_1\ngradients/batch_normalization_4/moments/SquaredDifference_grad/BroadcastGradientArgs\ngradients/batch_normalization_4/moments/SquaredDifference_grad/scalar\ngradients/batch_normalization_4/moments/SquaredDifference_grad/mul\ngradients/batch_normalization_4/moments/SquaredDifference_grad/sub\ngradients/batch_normalization_4/moments/SquaredDifference_grad/mul_1\ngradients/batch_normalization_4/moments/SquaredDifference_grad/Sum\ngradients/batch_normalization_4/moments/SquaredDifference_grad/Reshape\ngradients/batch_normalization_4/moments/SquaredDifference_grad/Sum_1\ngradients/batch_normalization_4/moments/SquaredDifference_grad/Reshape_1\ngradients/batch_normalization_4/moments/SquaredDifference_grad/Neg\ngradients/batch_normalization_4/moments/SquaredDifference_grad/tuple/group_deps\ngradients/batch_normalization_4/moments/SquaredDifference_grad/tuple/control_dependency\ngradients/batch_normalization_4/moments/SquaredDifference_grad/tuple/control_dependency_1\ngradients/batch_normalization_4/moments/mean_grad/Shape\ngradients/batch_normalization_4/moments/mean_grad/Size\ngradients/batch_normalization_4/moments/mean_grad/add\ngradients/batch_normalization_4/moments/mean_grad/mod\ngradients/batch_normalization_4/moments/mean_grad/Shape_1\ngradients/batch_normalization_4/moments/mean_grad/range/start\ngradients/batch_normalization_4/moments/mean_grad/range/delta\ngradients/batch_normalization_4/moments/mean_grad/range\ngradients/batch_normalization_4/moments/mean_grad/Fill/value\ngradients/batch_normalization_4/moments/mean_grad/Fill\ngradients/batch_normalization_4/moments/mean_grad/DynamicStitch\ngradients/batch_normalization_4/moments/mean_grad/Maximum/y\ngradients/batch_normalization_4/moments/mean_grad/Maximum\ngradients/batch_normalization_4/moments/mean_grad/floordiv\ngradients/batch_normalization_4/moments/mean_grad/Reshape\ngradients/batch_normalization_4/moments/mean_grad/Tile\ngradients/batch_normalization_4/moments/mean_grad/Shape_2\ngradients/batch_normalization_4/moments/mean_grad/Shape_3\ngradients/batch_normalization_4/moments/mean_grad/Const\ngradients/batch_normalization_4/moments/mean_grad/Prod\ngradients/batch_normalization_4/moments/mean_grad/Const_1\ngradients/batch_normalization_4/moments/mean_grad/Prod_1\ngradients/batch_normalization_4/moments/mean_grad/Maximum_1/y\ngradients/batch_normalization_4/moments/mean_grad/Maximum_1\ngradients/batch_normalization_4/moments/mean_grad/floordiv_1\ngradients/batch_normalization_4/moments/mean_grad/Cast\ngradients/batch_normalization_4/moments/mean_grad/truediv\ngradients/AddN_2\ngradients/hidden4/BiasAdd_grad/BiasAddGrad\ngradients/hidden4/BiasAdd_grad/tuple/group_deps\ngradients/hidden4/BiasAdd_grad/tuple/control_dependency\ngradients/hidden4/BiasAdd_grad/tuple/control_dependency_1\ngradients/hidden4/MatMul_grad/MatMul\ngradients/hidden4/MatMul_grad/MatMul_1\ngradients/hidden4/MatMul_grad/tuple/group_deps\ngradients/hidden4/MatMul_grad/tuple/control_dependency\ngradients/hidden4/MatMul_grad/tuple/control_dependency_1\ngradients/hidden3_drop/cond/Merge_grad/cond_grad\ngradients/hidden3_drop/cond/Merge_grad/tuple/group_deps\ngradients/hidden3_drop/cond/Merge_grad/tuple/control_dependency\ngradients/hidden3_drop/cond/Merge_grad/tuple/control_dependency_1\ngradients/hidden3_drop/cond/dropout/mul_grad/Shape\ngradients/hidden3_drop/cond/dropout/mul_grad/Shape_1\ngradients/hidden3_drop/cond/dropout/mul_grad/BroadcastGradientArgs\ngradients/hidden3_drop/cond/dropout/mul_grad/mul\ngradients/hidden3_drop/cond/dropout/mul_grad/Sum\ngradients/hidden3_drop/cond/dropout/mul_grad/Reshape\ngradients/hidden3_drop/cond/dropout/mul_grad/mul_1\ngradients/hidden3_drop/cond/dropout/mul_grad/Sum_1\ngradients/hidden3_drop/cond/dropout/mul_grad/Reshape_1\ngradients/hidden3_drop/cond/dropout/mul_grad/tuple/group_deps\ngradients/hidden3_drop/cond/dropout/mul_grad/tuple/control_dependency\ngradients/hidden3_drop/cond/dropout/mul_grad/tuple/control_dependency_1\ngradients/Switch_2\ngradients/Shape_3\ngradients/zeros_2/Const\ngradients/zeros_2\ngradients/hidden3_drop/cond/Identity/Switch_grad/cond_grad\ngradients/hidden3_drop/cond/dropout/div_grad/Shape\ngradients/hidden3_drop/cond/dropout/div_grad/Shape_1\ngradients/hidden3_drop/cond/dropout/div_grad/BroadcastGradientArgs\ngradients/hidden3_drop/cond/dropout/div_grad/RealDiv\ngradients/hidden3_drop/cond/dropout/div_grad/Sum\ngradients/hidden3_drop/cond/dropout/div_grad/Reshape\ngradients/hidden3_drop/cond/dropout/div_grad/Neg\ngradients/hidden3_drop/cond/dropout/div_grad/RealDiv_1\ngradients/hidden3_drop/cond/dropout/div_grad/RealDiv_2\ngradients/hidden3_drop/cond/dropout/div_grad/mul\ngradients/hidden3_drop/cond/dropout/div_grad/Sum_1\ngradients/hidden3_drop/cond/dropout/div_grad/Reshape_1\ngradients/hidden3_drop/cond/dropout/div_grad/tuple/group_deps\ngradients/hidden3_drop/cond/dropout/div_grad/tuple/control_dependency\ngradients/hidden3_drop/cond/dropout/div_grad/tuple/control_dependency_1\ngradients/Switch_3\ngradients/Shape_4\ngradients/zeros_3/Const\ngradients/zeros_3\ngradients/hidden3_drop/cond/dropout/Shape/Switch_grad/cond_grad\ngradients/AddN_3\ngradients/Elu_2_grad/EluGrad\ngradients/batch_normalization_3/batchnorm/add_1_grad/Shape\ngradients/batch_normalization_3/batchnorm/add_1_grad/Shape_1\ngradients/batch_normalization_3/batchnorm/add_1_grad/BroadcastGradientArgs\ngradients/batch_normalization_3/batchnorm/add_1_grad/Sum\ngradients/batch_normalization_3/batchnorm/add_1_grad/Reshape\ngradients/batch_normalization_3/batchnorm/add_1_grad/Sum_1\ngradients/batch_normalization_3/batchnorm/add_1_grad/Reshape_1\ngradients/batch_normalization_3/batchnorm/add_1_grad/tuple/group_deps\ngradients/batch_normalization_3/batchnorm/add_1_grad/tuple/control_dependency\ngradients/batch_normalization_3/batchnorm/add_1_grad/tuple/control_dependency_1\ngradients/batch_normalization_3/batchnorm/mul_1_grad/Shape\ngradients/batch_normalization_3/batchnorm/mul_1_grad/Shape_1\ngradients/batch_normalization_3/batchnorm/mul_1_grad/BroadcastGradientArgs\ngradients/batch_normalization_3/batchnorm/mul_1_grad/mul\ngradients/batch_normalization_3/batchnorm/mul_1_grad/Sum\ngradients/batch_normalization_3/batchnorm/mul_1_grad/Reshape\ngradients/batch_normalization_3/batchnorm/mul_1_grad/mul_1\ngradients/batch_normalization_3/batchnorm/mul_1_grad/Sum_1\ngradients/batch_normalization_3/batchnorm/mul_1_grad/Reshape_1\ngradients/batch_normalization_3/batchnorm/mul_1_grad/tuple/group_deps\ngradients/batch_normalization_3/batchnorm/mul_1_grad/tuple/control_dependency\ngradients/batch_normalization_3/batchnorm/mul_1_grad/tuple/control_dependency_1\ngradients/batch_normalization_3/batchnorm/sub_grad/Shape\ngradients/batch_normalization_3/batchnorm/sub_grad/Shape_1\ngradients/batch_normalization_3/batchnorm/sub_grad/BroadcastGradientArgs\ngradients/batch_normalization_3/batchnorm/sub_grad/Sum\ngradients/batch_normalization_3/batchnorm/sub_grad/Reshape\ngradients/batch_normalization_3/batchnorm/sub_grad/Sum_1\ngradients/batch_normalization_3/batchnorm/sub_grad/Neg\ngradients/batch_normalization_3/batchnorm/sub_grad/Reshape_1\ngradients/batch_normalization_3/batchnorm/sub_grad/tuple/group_deps\ngradients/batch_normalization_3/batchnorm/sub_grad/tuple/control_dependency\ngradients/batch_normalization_3/batchnorm/sub_grad/tuple/control_dependency_1\ngradients/batch_normalization_3/batchnorm/mul_2_grad/Shape\ngradients/batch_normalization_3/batchnorm/mul_2_grad/Shape_1\ngradients/batch_normalization_3/batchnorm/mul_2_grad/BroadcastGradientArgs\ngradients/batch_normalization_3/batchnorm/mul_2_grad/mul\ngradients/batch_normalization_3/batchnorm/mul_2_grad/Sum\ngradients/batch_normalization_3/batchnorm/mul_2_grad/Reshape\ngradients/batch_normalization_3/batchnorm/mul_2_grad/mul_1\ngradients/batch_normalization_3/batchnorm/mul_2_grad/Sum_1\ngradients/batch_normalization_3/batchnorm/mul_2_grad/Reshape_1\ngradients/batch_normalization_3/batchnorm/mul_2_grad/tuple/group_deps\ngradients/batch_normalization_3/batchnorm/mul_2_grad/tuple/control_dependency\ngradients/batch_normalization_3/batchnorm/mul_2_grad/tuple/control_dependency_1\ngradients/batch_normalization_3/Squeeze_grad/Shape\ngradients/batch_normalization_3/Squeeze_grad/Reshape\ngradients/AddN_4\ngradients/batch_normalization_3/batchnorm/mul_grad/Shape\ngradients/batch_normalization_3/batchnorm/mul_grad/Shape_1\ngradients/batch_normalization_3/batchnorm/mul_grad/BroadcastGradientArgs\ngradients/batch_normalization_3/batchnorm/mul_grad/mul\ngradients/batch_normalization_3/batchnorm/mul_grad/Sum\ngradients/batch_normalization_3/batchnorm/mul_grad/Reshape\ngradients/batch_normalization_3/batchnorm/mul_grad/mul_1\ngradients/batch_normalization_3/batchnorm/mul_grad/Sum_1\ngradients/batch_normalization_3/batchnorm/mul_grad/Reshape_1\ngradients/batch_normalization_3/batchnorm/mul_grad/tuple/group_deps\ngradients/batch_normalization_3/batchnorm/mul_grad/tuple/control_dependency\ngradients/batch_normalization_3/batchnorm/mul_grad/tuple/control_dependency_1\ngradients/batch_normalization_3/Select_grad/zeros_like\ngradients/batch_normalization_3/Select_grad/Select\ngradients/batch_normalization_3/Select_grad/Select_1\ngradients/batch_normalization_3/Select_grad/tuple/group_deps\ngradients/batch_normalization_3/Select_grad/tuple/control_dependency\ngradients/batch_normalization_3/Select_grad/tuple/control_dependency_1\ngradients/batch_normalization_3/batchnorm/Rsqrt_grad/RsqrtGrad\ngradients/batch_normalization_3/ExpandDims_grad/Shape\ngradients/batch_normalization_3/ExpandDims_grad/Reshape\ngradients/batch_normalization_3/batchnorm/add_grad/Shape\ngradients/batch_normalization_3/batchnorm/add_grad/Shape_1\ngradients/batch_normalization_3/batchnorm/add_grad/BroadcastGradientArgs\ngradients/batch_normalization_3/batchnorm/add_grad/Sum\ngradients/batch_normalization_3/batchnorm/add_grad/Reshape\ngradients/batch_normalization_3/batchnorm/add_grad/Sum_1\ngradients/batch_normalization_3/batchnorm/add_grad/Reshape_1\ngradients/batch_normalization_3/batchnorm/add_grad/tuple/group_deps\ngradients/batch_normalization_3/batchnorm/add_grad/tuple/control_dependency\ngradients/batch_normalization_3/batchnorm/add_grad/tuple/control_dependency_1\ngradients/batch_normalization_3/moments/Squeeze_grad/Shape\ngradients/batch_normalization_3/moments/Squeeze_grad/Reshape\ngradients/batch_normalization_3/Squeeze_1_grad/Shape\ngradients/batch_normalization_3/Squeeze_1_grad/Reshape\ngradients/batch_normalization_3/Select_1_grad/zeros_like\ngradients/batch_normalization_3/Select_1_grad/Select\ngradients/batch_normalization_3/Select_1_grad/Select_1\ngradients/batch_normalization_3/Select_1_grad/tuple/group_deps\ngradients/batch_normalization_3/Select_1_grad/tuple/control_dependency\ngradients/batch_normalization_3/Select_1_grad/tuple/control_dependency_1\ngradients/batch_normalization_3/ExpandDims_2_grad/Shape\ngradients/batch_normalization_3/ExpandDims_2_grad/Reshape\ngradients/batch_normalization_3/moments/Squeeze_1_grad/Shape\ngradients/batch_normalization_3/moments/Squeeze_1_grad/Reshape\ngradients/batch_normalization_3/moments/variance_grad/Shape\ngradients/batch_normalization_3/moments/variance_grad/Size\ngradients/batch_normalization_3/moments/variance_grad/add\ngradients/batch_normalization_3/moments/variance_grad/mod\ngradients/batch_normalization_3/moments/variance_grad/Shape_1\ngradients/batch_normalization_3/moments/variance_grad/range/start\ngradients/batch_normalization_3/moments/variance_grad/range/delta\ngradients/batch_normalization_3/moments/variance_grad/range\ngradients/batch_normalization_3/moments/variance_grad/Fill/value\ngradients/batch_normalization_3/moments/variance_grad/Fill\ngradients/batch_normalization_3/moments/variance_grad/DynamicStitch\ngradients/batch_normalization_3/moments/variance_grad/Maximum/y\ngradients/batch_normalization_3/moments/variance_grad/Maximum\ngradients/batch_normalization_3/moments/variance_grad/floordiv\ngradients/batch_normalization_3/moments/variance_grad/Reshape\ngradients/batch_normalization_3/moments/variance_grad/Tile\ngradients/batch_normalization_3/moments/variance_grad/Shape_2\ngradients/batch_normalization_3/moments/variance_grad/Shape_3\ngradients/batch_normalization_3/moments/variance_grad/Const\ngradients/batch_normalization_3/moments/variance_grad/Prod\ngradients/batch_normalization_3/moments/variance_grad/Const_1\ngradients/batch_normalization_3/moments/variance_grad/Prod_1\ngradients/batch_normalization_3/moments/variance_grad/Maximum_1/y\ngradients/batch_normalization_3/moments/variance_grad/Maximum_1\ngradients/batch_normalization_3/moments/variance_grad/floordiv_1\ngradients/batch_normalization_3/moments/variance_grad/Cast\ngradients/batch_normalization_3/moments/variance_grad/truediv\ngradients/batch_normalization_3/moments/SquaredDifference_grad/Shape\ngradients/batch_normalization_3/moments/SquaredDifference_grad/Shape_1\ngradients/batch_normalization_3/moments/SquaredDifference_grad/BroadcastGradientArgs\ngradients/batch_normalization_3/moments/SquaredDifference_grad/scalar\ngradients/batch_normalization_3/moments/SquaredDifference_grad/mul\ngradients/batch_normalization_3/moments/SquaredDifference_grad/sub\ngradients/batch_normalization_3/moments/SquaredDifference_grad/mul_1\ngradients/batch_normalization_3/moments/SquaredDifference_grad/Sum\ngradients/batch_normalization_3/moments/SquaredDifference_grad/Reshape\ngradients/batch_normalization_3/moments/SquaredDifference_grad/Sum_1\ngradients/batch_normalization_3/moments/SquaredDifference_grad/Reshape_1\ngradients/batch_normalization_3/moments/SquaredDifference_grad/Neg\ngradients/batch_normalization_3/moments/SquaredDifference_grad/tuple/group_deps\ngradients/batch_normalization_3/moments/SquaredDifference_grad/tuple/control_dependency\ngradients/batch_normalization_3/moments/SquaredDifference_grad/tuple/control_dependency_1\ngradients/batch_normalization_3/moments/mean_grad/Shape\ngradients/batch_normalization_3/moments/mean_grad/Size\ngradients/batch_normalization_3/moments/mean_grad/add\ngradients/batch_normalization_3/moments/mean_grad/mod\ngradients/batch_normalization_3/moments/mean_grad/Shape_1\ngradients/batch_normalization_3/moments/mean_grad/range/start\ngradients/batch_normalization_3/moments/mean_grad/range/delta\ngradients/batch_normalization_3/moments/mean_grad/range\ngradients/batch_normalization_3/moments/mean_grad/Fill/value\ngradients/batch_normalization_3/moments/mean_grad/Fill\ngradients/batch_normalization_3/moments/mean_grad/DynamicStitch\ngradients/batch_normalization_3/moments/mean_grad/Maximum/y\ngradients/batch_normalization_3/moments/mean_grad/Maximum\ngradients/batch_normalization_3/moments/mean_grad/floordiv\ngradients/batch_normalization_3/moments/mean_grad/Reshape\ngradients/batch_normalization_3/moments/mean_grad/Tile\ngradients/batch_normalization_3/moments/mean_grad/Shape_2\ngradients/batch_normalization_3/moments/mean_grad/Shape_3\ngradients/batch_normalization_3/moments/mean_grad/Const\ngradients/batch_normalization_3/moments/mean_grad/Prod\ngradients/batch_normalization_3/moments/mean_grad/Const_1\ngradients/batch_normalization_3/moments/mean_grad/Prod_1\ngradients/batch_normalization_3/moments/mean_grad/Maximum_1/y\ngradients/batch_normalization_3/moments/mean_grad/Maximum_1\ngradients/batch_normalization_3/moments/mean_grad/floordiv_1\ngradients/batch_normalization_3/moments/mean_grad/Cast\ngradients/batch_normalization_3/moments/mean_grad/truediv\ngradients/AddN_5\ngradients/hidden3/BiasAdd_grad/BiasAddGrad\ngradients/hidden3/BiasAdd_grad/tuple/group_deps\ngradients/hidden3/BiasAdd_grad/tuple/control_dependency\ngradients/hidden3/BiasAdd_grad/tuple/control_dependency_1\ngradients/hidden3/MatMul_grad/MatMul\ngradients/hidden3/MatMul_grad/MatMul_1\ngradients/hidden3/MatMul_grad/tuple/group_deps\ngradients/hidden3/MatMul_grad/tuple/control_dependency\ngradients/hidden3/MatMul_grad/tuple/control_dependency_1\ngradients/hidden2_drop/cond/Merge_grad/cond_grad\ngradients/hidden2_drop/cond/Merge_grad/tuple/group_deps\ngradients/hidden2_drop/cond/Merge_grad/tuple/control_dependency\ngradients/hidden2_drop/cond/Merge_grad/tuple/control_dependency_1\ngradients/hidden2_drop/cond/dropout/mul_grad/Shape\ngradients/hidden2_drop/cond/dropout/mul_grad/Shape_1\ngradients/hidden2_drop/cond/dropout/mul_grad/BroadcastGradientArgs\ngradients/hidden2_drop/cond/dropout/mul_grad/mul\ngradients/hidden2_drop/cond/dropout/mul_grad/Sum\ngradients/hidden2_drop/cond/dropout/mul_grad/Reshape\ngradients/hidden2_drop/cond/dropout/mul_grad/mul_1\ngradients/hidden2_drop/cond/dropout/mul_grad/Sum_1\ngradients/hidden2_drop/cond/dropout/mul_grad/Reshape_1\ngradients/hidden2_drop/cond/dropout/mul_grad/tuple/group_deps\ngradients/hidden2_drop/cond/dropout/mul_grad/tuple/control_dependency\ngradients/hidden2_drop/cond/dropout/mul_grad/tuple/control_dependency_1\ngradients/Switch_4\ngradients/Shape_5\ngradients/zeros_4/Const\ngradients/zeros_4\ngradients/hidden2_drop/cond/Identity/Switch_grad/cond_grad\ngradients/hidden2_drop/cond/dropout/div_grad/Shape\ngradients/hidden2_drop/cond/dropout/div_grad/Shape_1\ngradients/hidden2_drop/cond/dropout/div_grad/BroadcastGradientArgs\ngradients/hidden2_drop/cond/dropout/div_grad/RealDiv\ngradients/hidden2_drop/cond/dropout/div_grad/Sum\ngradients/hidden2_drop/cond/dropout/div_grad/Reshape\ngradients/hidden2_drop/cond/dropout/div_grad/Neg\ngradients/hidden2_drop/cond/dropout/div_grad/RealDiv_1\ngradients/hidden2_drop/cond/dropout/div_grad/RealDiv_2\ngradients/hidden2_drop/cond/dropout/div_grad/mul\ngradients/hidden2_drop/cond/dropout/div_grad/Sum_1\ngradients/hidden2_drop/cond/dropout/div_grad/Reshape_1\ngradients/hidden2_drop/cond/dropout/div_grad/tuple/group_deps\ngradients/hidden2_drop/cond/dropout/div_grad/tuple/control_dependency\ngradients/hidden2_drop/cond/dropout/div_grad/tuple/control_dependency_1\ngradients/Switch_5\ngradients/Shape_6\ngradients/zeros_5/Const\ngradients/zeros_5\ngradients/hidden2_drop/cond/dropout/Shape/Switch_grad/cond_grad\ngradients/AddN_6\ngradients/Elu_1_grad/EluGrad\ngradients/batch_normalization_2/batchnorm/add_1_grad/Shape\ngradients/batch_normalization_2/batchnorm/add_1_grad/Shape_1\ngradients/batch_normalization_2/batchnorm/add_1_grad/BroadcastGradientArgs\ngradients/batch_normalization_2/batchnorm/add_1_grad/Sum\ngradients/batch_normalization_2/batchnorm/add_1_grad/Reshape\ngradients/batch_normalization_2/batchnorm/add_1_grad/Sum_1\ngradients/batch_normalization_2/batchnorm/add_1_grad/Reshape_1\ngradients/batch_normalization_2/batchnorm/add_1_grad/tuple/group_deps\ngradients/batch_normalization_2/batchnorm/add_1_grad/tuple/control_dependency\ngradients/batch_normalization_2/batchnorm/add_1_grad/tuple/control_dependency_1\ngradients/batch_normalization_2/batchnorm/mul_1_grad/Shape\ngradients/batch_normalization_2/batchnorm/mul_1_grad/Shape_1\ngradients/batch_normalization_2/batchnorm/mul_1_grad/BroadcastGradientArgs\ngradients/batch_normalization_2/batchnorm/mul_1_grad/mul\ngradients/batch_normalization_2/batchnorm/mul_1_grad/Sum\ngradients/batch_normalization_2/batchnorm/mul_1_grad/Reshape\ngradients/batch_normalization_2/batchnorm/mul_1_grad/mul_1\ngradients/batch_normalization_2/batchnorm/mul_1_grad/Sum_1\ngradients/batch_normalization_2/batchnorm/mul_1_grad/Reshape_1\ngradients/batch_normalization_2/batchnorm/mul_1_grad/tuple/group_deps\ngradients/batch_normalization_2/batchnorm/mul_1_grad/tuple/control_dependency\ngradients/batch_normalization_2/batchnorm/mul_1_grad/tuple/control_dependency_1\ngradients/batch_normalization_2/batchnorm/sub_grad/Shape\ngradients/batch_normalization_2/batchnorm/sub_grad/Shape_1\ngradients/batch_normalization_2/batchnorm/sub_grad/BroadcastGradientArgs\ngradients/batch_normalization_2/batchnorm/sub_grad/Sum\ngradients/batch_normalization_2/batchnorm/sub_grad/Reshape\ngradients/batch_normalization_2/batchnorm/sub_grad/Sum_1\ngradients/batch_normalization_2/batchnorm/sub_grad/Neg\ngradients/batch_normalization_2/batchnorm/sub_grad/Reshape_1\ngradients/batch_normalization_2/batchnorm/sub_grad/tuple/group_deps\ngradients/batch_normalization_2/batchnorm/sub_grad/tuple/control_dependency\ngradients/batch_normalization_2/batchnorm/sub_grad/tuple/control_dependency_1\ngradients/batch_normalization_2/batchnorm/mul_2_grad/Shape\ngradients/batch_normalization_2/batchnorm/mul_2_grad/Shape_1\ngradients/batch_normalization_2/batchnorm/mul_2_grad/BroadcastGradientArgs\ngradients/batch_normalization_2/batchnorm/mul_2_grad/mul\ngradients/batch_normalization_2/batchnorm/mul_2_grad/Sum\ngradients/batch_normalization_2/batchnorm/mul_2_grad/Reshape\ngradients/batch_normalization_2/batchnorm/mul_2_grad/mul_1\ngradients/batch_normalization_2/batchnorm/mul_2_grad/Sum_1\ngradients/batch_normalization_2/batchnorm/mul_2_grad/Reshape_1\ngradients/batch_normalization_2/batchnorm/mul_2_grad/tuple/group_deps\ngradients/batch_normalization_2/batchnorm/mul_2_grad/tuple/control_dependency\ngradients/batch_normalization_2/batchnorm/mul_2_grad/tuple/control_dependency_1\ngradients/batch_normalization_2/Squeeze_grad/Shape\ngradients/batch_normalization_2/Squeeze_grad/Reshape\ngradients/AddN_7\ngradients/batch_normalization_2/batchnorm/mul_grad/Shape\ngradients/batch_normalization_2/batchnorm/mul_grad/Shape_1\ngradients/batch_normalization_2/batchnorm/mul_grad/BroadcastGradientArgs\ngradients/batch_normalization_2/batchnorm/mul_grad/mul\ngradients/batch_normalization_2/batchnorm/mul_grad/Sum\ngradients/batch_normalization_2/batchnorm/mul_grad/Reshape\ngradients/batch_normalization_2/batchnorm/mul_grad/mul_1\ngradients/batch_normalization_2/batchnorm/mul_grad/Sum_1\ngradients/batch_normalization_2/batchnorm/mul_grad/Reshape_1\ngradients/batch_normalization_2/batchnorm/mul_grad/tuple/group_deps\ngradients/batch_normalization_2/batchnorm/mul_grad/tuple/control_dependency\ngradients/batch_normalization_2/batchnorm/mul_grad/tuple/control_dependency_1\ngradients/batch_normalization_2/Select_grad/zeros_like\ngradients/batch_normalization_2/Select_grad/Select\ngradients/batch_normalization_2/Select_grad/Select_1\ngradients/batch_normalization_2/Select_grad/tuple/group_deps\ngradients/batch_normalization_2/Select_grad/tuple/control_dependency\ngradients/batch_normalization_2/Select_grad/tuple/control_dependency_1\ngradients/batch_normalization_2/batchnorm/Rsqrt_grad/RsqrtGrad\ngradients/batch_normalization_2/ExpandDims_grad/Shape\ngradients/batch_normalization_2/ExpandDims_grad/Reshape\ngradients/batch_normalization_2/batchnorm/add_grad/Shape\ngradients/batch_normalization_2/batchnorm/add_grad/Shape_1\ngradients/batch_normalization_2/batchnorm/add_grad/BroadcastGradientArgs\ngradients/batch_normalization_2/batchnorm/add_grad/Sum\ngradients/batch_normalization_2/batchnorm/add_grad/Reshape\ngradients/batch_normalization_2/batchnorm/add_grad/Sum_1\ngradients/batch_normalization_2/batchnorm/add_grad/Reshape_1\ngradients/batch_normalization_2/batchnorm/add_grad/tuple/group_deps\ngradients/batch_normalization_2/batchnorm/add_grad/tuple/control_dependency\ngradients/batch_normalization_2/batchnorm/add_grad/tuple/control_dependency_1\ngradients/batch_normalization_2/moments/Squeeze_grad/Shape\ngradients/batch_normalization_2/moments/Squeeze_grad/Reshape\ngradients/batch_normalization_2/Squeeze_1_grad/Shape\ngradients/batch_normalization_2/Squeeze_1_grad/Reshape\ngradients/batch_normalization_2/Select_1_grad/zeros_like\ngradients/batch_normalization_2/Select_1_grad/Select\ngradients/batch_normalization_2/Select_1_grad/Select_1\ngradients/batch_normalization_2/Select_1_grad/tuple/group_deps\ngradients/batch_normalization_2/Select_1_grad/tuple/control_dependency\ngradients/batch_normalization_2/Select_1_grad/tuple/control_dependency_1\ngradients/batch_normalization_2/ExpandDims_2_grad/Shape\ngradients/batch_normalization_2/ExpandDims_2_grad/Reshape\ngradients/batch_normalization_2/moments/Squeeze_1_grad/Shape\ngradients/batch_normalization_2/moments/Squeeze_1_grad/Reshape\ngradients/batch_normalization_2/moments/variance_grad/Shape\ngradients/batch_normalization_2/moments/variance_grad/Size\ngradients/batch_normalization_2/moments/variance_grad/add\ngradients/batch_normalization_2/moments/variance_grad/mod\ngradients/batch_normalization_2/moments/variance_grad/Shape_1\ngradients/batch_normalization_2/moments/variance_grad/range/start\ngradients/batch_normalization_2/moments/variance_grad/range/delta\ngradients/batch_normalization_2/moments/variance_grad/range\ngradients/batch_normalization_2/moments/variance_grad/Fill/value\ngradients/batch_normalization_2/moments/variance_grad/Fill\ngradients/batch_normalization_2/moments/variance_grad/DynamicStitch\ngradients/batch_normalization_2/moments/variance_grad/Maximum/y\ngradients/batch_normalization_2/moments/variance_grad/Maximum\ngradients/batch_normalization_2/moments/variance_grad/floordiv\ngradients/batch_normalization_2/moments/variance_grad/Reshape\ngradients/batch_normalization_2/moments/variance_grad/Tile\ngradients/batch_normalization_2/moments/variance_grad/Shape_2\ngradients/batch_normalization_2/moments/variance_grad/Shape_3\ngradients/batch_normalization_2/moments/variance_grad/Const\ngradients/batch_normalization_2/moments/variance_grad/Prod\ngradients/batch_normalization_2/moments/variance_grad/Const_1\ngradients/batch_normalization_2/moments/variance_grad/Prod_1\ngradients/batch_normalization_2/moments/variance_grad/Maximum_1/y\ngradients/batch_normalization_2/moments/variance_grad/Maximum_1\ngradients/batch_normalization_2/moments/variance_grad/floordiv_1\ngradients/batch_normalization_2/moments/variance_grad/Cast\ngradients/batch_normalization_2/moments/variance_grad/truediv\ngradients/batch_normalization_2/moments/SquaredDifference_grad/Shape\ngradients/batch_normalization_2/moments/SquaredDifference_grad/Shape_1\ngradients/batch_normalization_2/moments/SquaredDifference_grad/BroadcastGradientArgs\ngradients/batch_normalization_2/moments/SquaredDifference_grad/scalar\ngradients/batch_normalization_2/moments/SquaredDifference_grad/mul\ngradients/batch_normalization_2/moments/SquaredDifference_grad/sub\ngradients/batch_normalization_2/moments/SquaredDifference_grad/mul_1\ngradients/batch_normalization_2/moments/SquaredDifference_grad/Sum\ngradients/batch_normalization_2/moments/SquaredDifference_grad/Reshape\ngradients/batch_normalization_2/moments/SquaredDifference_grad/Sum_1\ngradients/batch_normalization_2/moments/SquaredDifference_grad/Reshape_1\ngradients/batch_normalization_2/moments/SquaredDifference_grad/Neg\ngradients/batch_normalization_2/moments/SquaredDifference_grad/tuple/group_deps\ngradients/batch_normalization_2/moments/SquaredDifference_grad/tuple/control_dependency\ngradients/batch_normalization_2/moments/SquaredDifference_grad/tuple/control_dependency_1\ngradients/batch_normalization_2/moments/mean_grad/Shape\ngradients/batch_normalization_2/moments/mean_grad/Size\ngradients/batch_normalization_2/moments/mean_grad/add\ngradients/batch_normalization_2/moments/mean_grad/mod\ngradients/batch_normalization_2/moments/mean_grad/Shape_1\ngradients/batch_normalization_2/moments/mean_grad/range/start\ngradients/batch_normalization_2/moments/mean_grad/range/delta\ngradients/batch_normalization_2/moments/mean_grad/range\ngradients/batch_normalization_2/moments/mean_grad/Fill/value\ngradients/batch_normalization_2/moments/mean_grad/Fill\ngradients/batch_normalization_2/moments/mean_grad/DynamicStitch\ngradients/batch_normalization_2/moments/mean_grad/Maximum/y\ngradients/batch_normalization_2/moments/mean_grad/Maximum\ngradients/batch_normalization_2/moments/mean_grad/floordiv\ngradients/batch_normalization_2/moments/mean_grad/Reshape\ngradients/batch_normalization_2/moments/mean_grad/Tile\ngradients/batch_normalization_2/moments/mean_grad/Shape_2\ngradients/batch_normalization_2/moments/mean_grad/Shape_3\ngradients/batch_normalization_2/moments/mean_grad/Const\ngradients/batch_normalization_2/moments/mean_grad/Prod\ngradients/batch_normalization_2/moments/mean_grad/Const_1\ngradients/batch_normalization_2/moments/mean_grad/Prod_1\ngradients/batch_normalization_2/moments/mean_grad/Maximum_1/y\ngradients/batch_normalization_2/moments/mean_grad/Maximum_1\ngradients/batch_normalization_2/moments/mean_grad/floordiv_1\ngradients/batch_normalization_2/moments/mean_grad/Cast\ngradients/batch_normalization_2/moments/mean_grad/truediv\ngradients/AddN_8\ngradients/hidden2/BiasAdd_grad/BiasAddGrad\ngradients/hidden2/BiasAdd_grad/tuple/group_deps\ngradients/hidden2/BiasAdd_grad/tuple/control_dependency\ngradients/hidden2/BiasAdd_grad/tuple/control_dependency_1\ngradients/hidden2/MatMul_grad/MatMul\ngradients/hidden2/MatMul_grad/MatMul_1\ngradients/hidden2/MatMul_grad/tuple/group_deps\ngradients/hidden2/MatMul_grad/tuple/control_dependency\ngradients/hidden2/MatMul_grad/tuple/control_dependency_1\ngradients/hidden1_drop/cond/Merge_grad/cond_grad\ngradients/hidden1_drop/cond/Merge_grad/tuple/group_deps\ngradients/hidden1_drop/cond/Merge_grad/tuple/control_dependency\ngradients/hidden1_drop/cond/Merge_grad/tuple/control_dependency_1\ngradients/hidden1_drop/cond/dropout/mul_grad/Shape\ngradients/hidden1_drop/cond/dropout/mul_grad/Shape_1\ngradients/hidden1_drop/cond/dropout/mul_grad/BroadcastGradientArgs\ngradients/hidden1_drop/cond/dropout/mul_grad/mul\ngradients/hidden1_drop/cond/dropout/mul_grad/Sum\ngradients/hidden1_drop/cond/dropout/mul_grad/Reshape\ngradients/hidden1_drop/cond/dropout/mul_grad/mul_1\ngradients/hidden1_drop/cond/dropout/mul_grad/Sum_1\ngradients/hidden1_drop/cond/dropout/mul_grad/Reshape_1\ngradients/hidden1_drop/cond/dropout/mul_grad/tuple/group_deps\ngradients/hidden1_drop/cond/dropout/mul_grad/tuple/control_dependency\ngradients/hidden1_drop/cond/dropout/mul_grad/tuple/control_dependency_1\ngradients/Switch_6\ngradients/Shape_7\ngradients/zeros_6/Const\ngradients/zeros_6\ngradients/hidden1_drop/cond/Identity/Switch_grad/cond_grad\ngradients/hidden1_drop/cond/dropout/div_grad/Shape\ngradients/hidden1_drop/cond/dropout/div_grad/Shape_1\ngradients/hidden1_drop/cond/dropout/div_grad/BroadcastGradientArgs\ngradients/hidden1_drop/cond/dropout/div_grad/RealDiv\ngradients/hidden1_drop/cond/dropout/div_grad/Sum\ngradients/hidden1_drop/cond/dropout/div_grad/Reshape\ngradients/hidden1_drop/cond/dropout/div_grad/Neg\ngradients/hidden1_drop/cond/dropout/div_grad/RealDiv_1\ngradients/hidden1_drop/cond/dropout/div_grad/RealDiv_2\ngradients/hidden1_drop/cond/dropout/div_grad/mul\ngradients/hidden1_drop/cond/dropout/div_grad/Sum_1\ngradients/hidden1_drop/cond/dropout/div_grad/Reshape_1\ngradients/hidden1_drop/cond/dropout/div_grad/tuple/group_deps\ngradients/hidden1_drop/cond/dropout/div_grad/tuple/control_dependency\ngradients/hidden1_drop/cond/dropout/div_grad/tuple/control_dependency_1\ngradients/Switch_7\ngradients/Shape_8\ngradients/zeros_7/Const\ngradients/zeros_7\ngradients/hidden1_drop/cond/dropout/Shape/Switch_grad/cond_grad\ngradients/AddN_9\ngradients/Elu_grad/EluGrad\ngradients/batch_normalization/batchnorm/add_1_grad/Shape\ngradients/batch_normalization/batchnorm/add_1_grad/Shape_1\ngradients/batch_normalization/batchnorm/add_1_grad/BroadcastGradientArgs\ngradients/batch_normalization/batchnorm/add_1_grad/Sum\ngradients/batch_normalization/batchnorm/add_1_grad/Reshape\ngradients/batch_normalization/batchnorm/add_1_grad/Sum_1\ngradients/batch_normalization/batchnorm/add_1_grad/Reshape_1\ngradients/batch_normalization/batchnorm/add_1_grad/tuple/group_deps\ngradients/batch_normalization/batchnorm/add_1_grad/tuple/control_dependency\ngradients/batch_normalization/batchnorm/add_1_grad/tuple/control_dependency_1\ngradients/batch_normalization/batchnorm/mul_1_grad/Shape\ngradients/batch_normalization/batchnorm/mul_1_grad/Shape_1\ngradients/batch_normalization/batchnorm/mul_1_grad/BroadcastGradientArgs\ngradients/batch_normalization/batchnorm/mul_1_grad/mul\ngradients/batch_normalization/batchnorm/mul_1_grad/Sum\ngradients/batch_normalization/batchnorm/mul_1_grad/Reshape\ngradients/batch_normalization/batchnorm/mul_1_grad/mul_1\ngradients/batch_normalization/batchnorm/mul_1_grad/Sum_1\ngradients/batch_normalization/batchnorm/mul_1_grad/Reshape_1\ngradients/batch_normalization/batchnorm/mul_1_grad/tuple/group_deps\ngradients/batch_normalization/batchnorm/mul_1_grad/tuple/control_dependency\ngradients/batch_normalization/batchnorm/mul_1_grad/tuple/control_dependency_1\ngradients/batch_normalization/batchnorm/sub_grad/Shape\ngradients/batch_normalization/batchnorm/sub_grad/Shape_1\ngradients/batch_normalization/batchnorm/sub_grad/BroadcastGradientArgs\ngradients/batch_normalization/batchnorm/sub_grad/Sum\ngradients/batch_normalization/batchnorm/sub_grad/Reshape\ngradients/batch_normalization/batchnorm/sub_grad/Sum_1\ngradients/batch_normalization/batchnorm/sub_grad/Neg\ngradients/batch_normalization/batchnorm/sub_grad/Reshape_1\ngradients/batch_normalization/batchnorm/sub_grad/tuple/group_deps\ngradients/batch_normalization/batchnorm/sub_grad/tuple/control_dependency\ngradients/batch_normalization/batchnorm/sub_grad/tuple/control_dependency_1\ngradients/batch_normalization/batchnorm/mul_2_grad/Shape\ngradients/batch_normalization/batchnorm/mul_2_grad/Shape_1\ngradients/batch_normalization/batchnorm/mul_2_grad/BroadcastGradientArgs\ngradients/batch_normalization/batchnorm/mul_2_grad/mul\ngradients/batch_normalization/batchnorm/mul_2_grad/Sum\ngradients/batch_normalization/batchnorm/mul_2_grad/Reshape\ngradients/batch_normalization/batchnorm/mul_2_grad/mul_1\ngradients/batch_normalization/batchnorm/mul_2_grad/Sum_1\ngradients/batch_normalization/batchnorm/mul_2_grad/Reshape_1\ngradients/batch_normalization/batchnorm/mul_2_grad/tuple/group_deps\ngradients/batch_normalization/batchnorm/mul_2_grad/tuple/control_dependency\ngradients/batch_normalization/batchnorm/mul_2_grad/tuple/control_dependency_1\ngradients/batch_normalization/Squeeze_grad/Shape\ngradients/batch_normalization/Squeeze_grad/Reshape\ngradients/AddN_10\ngradients/batch_normalization/batchnorm/mul_grad/Shape\ngradients/batch_normalization/batchnorm/mul_grad/Shape_1\ngradients/batch_normalization/batchnorm/mul_grad/BroadcastGradientArgs\ngradients/batch_normalization/batchnorm/mul_grad/mul\ngradients/batch_normalization/batchnorm/mul_grad/Sum\ngradients/batch_normalization/batchnorm/mul_grad/Reshape\ngradients/batch_normalization/batchnorm/mul_grad/mul_1\ngradients/batch_normalization/batchnorm/mul_grad/Sum_1\ngradients/batch_normalization/batchnorm/mul_grad/Reshape_1\ngradients/batch_normalization/batchnorm/mul_grad/tuple/group_deps\ngradients/batch_normalization/batchnorm/mul_grad/tuple/control_dependency\ngradients/batch_normalization/batchnorm/mul_grad/tuple/control_dependency_1\ngradients/batch_normalization/Select_grad/zeros_like\ngradients/batch_normalization/Select_grad/Select\ngradients/batch_normalization/Select_grad/Select_1\ngradients/batch_normalization/Select_grad/tuple/group_deps\ngradients/batch_normalization/Select_grad/tuple/control_dependency\ngradients/batch_normalization/Select_grad/tuple/control_dependency_1\ngradients/batch_normalization/batchnorm/Rsqrt_grad/RsqrtGrad\ngradients/batch_normalization/ExpandDims_grad/Shape\ngradients/batch_normalization/ExpandDims_grad/Reshape\ngradients/batch_normalization/batchnorm/add_grad/Shape\ngradients/batch_normalization/batchnorm/add_grad/Shape_1\ngradients/batch_normalization/batchnorm/add_grad/BroadcastGradientArgs\ngradients/batch_normalization/batchnorm/add_grad/Sum\ngradients/batch_normalization/batchnorm/add_grad/Reshape\ngradients/batch_normalization/batchnorm/add_grad/Sum_1\ngradients/batch_normalization/batchnorm/add_grad/Reshape_1\ngradients/batch_normalization/batchnorm/add_grad/tuple/group_deps\ngradients/batch_normalization/batchnorm/add_grad/tuple/control_dependency\ngradients/batch_normalization/batchnorm/add_grad/tuple/control_dependency_1\ngradients/batch_normalization/moments/Squeeze_grad/Shape\ngradients/batch_normalization/moments/Squeeze_grad/Reshape\ngradients/batch_normalization/Squeeze_1_grad/Shape\ngradients/batch_normalization/Squeeze_1_grad/Reshape\ngradients/batch_normalization/Select_1_grad/zeros_like\ngradients/batch_normalization/Select_1_grad/Select\ngradients/batch_normalization/Select_1_grad/Select_1\ngradients/batch_normalization/Select_1_grad/tuple/group_deps\ngradients/batch_normalization/Select_1_grad/tuple/control_dependency\ngradients/batch_normalization/Select_1_grad/tuple/control_dependency_1\ngradients/batch_normalization/ExpandDims_2_grad/Shape\ngradients/batch_normalization/ExpandDims_2_grad/Reshape\ngradients/batch_normalization/moments/Squeeze_1_grad/Shape\ngradients/batch_normalization/moments/Squeeze_1_grad/Reshape\ngradients/batch_normalization/moments/variance_grad/Shape\ngradients/batch_normalization/moments/variance_grad/Size\ngradients/batch_normalization/moments/variance_grad/add\ngradients/batch_normalization/moments/variance_grad/mod\ngradients/batch_normalization/moments/variance_grad/Shape_1\ngradients/batch_normalization/moments/variance_grad/range/start\ngradients/batch_normalization/moments/variance_grad/range/delta\ngradients/batch_normalization/moments/variance_grad/range\ngradients/batch_normalization/moments/variance_grad/Fill/value\ngradients/batch_normalization/moments/variance_grad/Fill\ngradients/batch_normalization/moments/variance_grad/DynamicStitch\ngradients/batch_normalization/moments/variance_grad/Maximum/y\ngradients/batch_normalization/moments/variance_grad/Maximum\ngradients/batch_normalization/moments/variance_grad/floordiv\ngradients/batch_normalization/moments/variance_grad/Reshape\ngradients/batch_normalization/moments/variance_grad/Tile\ngradients/batch_normalization/moments/variance_grad/Shape_2\ngradients/batch_normalization/moments/variance_grad/Shape_3\ngradients/batch_normalization/moments/variance_grad/Const\ngradients/batch_normalization/moments/variance_grad/Prod\ngradients/batch_normalization/moments/variance_grad/Const_1\ngradients/batch_normalization/moments/variance_grad/Prod_1\ngradients/batch_normalization/moments/variance_grad/Maximum_1/y\ngradients/batch_normalization/moments/variance_grad/Maximum_1\ngradients/batch_normalization/moments/variance_grad/floordiv_1\ngradients/batch_normalization/moments/variance_grad/Cast\ngradients/batch_normalization/moments/variance_grad/truediv\ngradients/batch_normalization/moments/SquaredDifference_grad/Shape\ngradients/batch_normalization/moments/SquaredDifference_grad/Shape_1\ngradients/batch_normalization/moments/SquaredDifference_grad/BroadcastGradientArgs\ngradients/batch_normalization/moments/SquaredDifference_grad/scalar\ngradients/batch_normalization/moments/SquaredDifference_grad/mul\ngradients/batch_normalization/moments/SquaredDifference_grad/sub\ngradients/batch_normalization/moments/SquaredDifference_grad/mul_1\ngradients/batch_normalization/moments/SquaredDifference_grad/Sum\ngradients/batch_normalization/moments/SquaredDifference_grad/Reshape\ngradients/batch_normalization/moments/SquaredDifference_grad/Sum_1\ngradients/batch_normalization/moments/SquaredDifference_grad/Reshape_1\ngradients/batch_normalization/moments/SquaredDifference_grad/Neg\ngradients/batch_normalization/moments/SquaredDifference_grad/tuple/group_deps\ngradients/batch_normalization/moments/SquaredDifference_grad/tuple/control_dependency\ngradients/batch_normalization/moments/SquaredDifference_grad/tuple/control_dependency_1\ngradients/batch_normalization/moments/mean_grad/Shape\ngradients/batch_normalization/moments/mean_grad/Size\ngradients/batch_normalization/moments/mean_grad/add\ngradients/batch_normalization/moments/mean_grad/mod\ngradients/batch_normalization/moments/mean_grad/Shape_1\ngradients/batch_normalization/moments/mean_grad/range/start\ngradients/batch_normalization/moments/mean_grad/range/delta\ngradients/batch_normalization/moments/mean_grad/range\ngradients/batch_normalization/moments/mean_grad/Fill/value\ngradients/batch_normalization/moments/mean_grad/Fill\ngradients/batch_normalization/moments/mean_grad/DynamicStitch\ngradients/batch_normalization/moments/mean_grad/Maximum/y\ngradients/batch_normalization/moments/mean_grad/Maximum\ngradients/batch_normalization/moments/mean_grad/floordiv\ngradients/batch_normalization/moments/mean_grad/Reshape\ngradients/batch_normalization/moments/mean_grad/Tile\ngradients/batch_normalization/moments/mean_grad/Shape_2\ngradients/batch_normalization/moments/mean_grad/Shape_3\ngradients/batch_normalization/moments/mean_grad/Const\ngradients/batch_normalization/moments/mean_grad/Prod\ngradients/batch_normalization/moments/mean_grad/Const_1\ngradients/batch_normalization/moments/mean_grad/Prod_1\ngradients/batch_normalization/moments/mean_grad/Maximum_1/y\ngradients/batch_normalization/moments/mean_grad/Maximum_1\ngradients/batch_normalization/moments/mean_grad/floordiv_1\ngradients/batch_normalization/moments/mean_grad/Cast\ngradients/batch_normalization/moments/mean_grad/truediv\ngradients/AddN_11\ngradients/hidden1/BiasAdd_grad/BiasAddGrad\ngradients/hidden1/BiasAdd_grad/tuple/group_deps\ngradients/hidden1/BiasAdd_grad/tuple/control_dependency\ngradients/hidden1/BiasAdd_grad/tuple/control_dependency_1\ngradients/hidden1/MatMul_grad/MatMul\ngradients/hidden1/MatMul_grad/MatMul_1\ngradients/hidden1/MatMul_grad/tuple/group_deps\ngradients/hidden1/MatMul_grad/tuple/control_dependency\ngradients/hidden1/MatMul_grad/tuple/control_dependency_1\nbeta1_power/initial_value\nbeta1_power\nbeta1_power/Assign\nbeta1_power/read\nbeta2_power/initial_value\nbeta2_power\nbeta2_power/Assign\nbeta2_power/read\nhidden1/kernel/Adam/Initializer/zeros\nhidden1/kernel/Adam\nhidden1/kernel/Adam/Assign\nhidden1/kernel/Adam/read\nhidden1/kernel/Adam_1/Initializer/zeros\nhidden1/kernel/Adam_1\nhidden1/kernel/Adam_1/Assign\nhidden1/kernel/Adam_1/read\nhidden1/bias/Adam/Initializer/zeros\nhidden1/bias/Adam\nhidden1/bias/Adam/Assign\nhidden1/bias/Adam/read\nhidden1/bias/Adam_1/Initializer/zeros\nhidden1/bias/Adam_1\nhidden1/bias/Adam_1/Assign\nhidden1/bias/Adam_1/read\nbatch_normalization/gamma/Adam/Initializer/zeros\nbatch_normalization/gamma/Adam\nbatch_normalization/gamma/Adam/Assign\nbatch_normalization/gamma/Adam/read\nbatch_normalization/gamma/Adam_1/Initializer/zeros\nbatch_normalization/gamma/Adam_1\nbatch_normalization/gamma/Adam_1/Assign\nbatch_normalization/gamma/Adam_1/read\nbatch_normalization/beta/Adam/Initializer/zeros\nbatch_normalization/beta/Adam\nbatch_normalization/beta/Adam/Assign\nbatch_normalization/beta/Adam/read\nbatch_normalization/beta/Adam_1/Initializer/zeros\nbatch_normalization/beta/Adam_1\nbatch_normalization/beta/Adam_1/Assign\nbatch_normalization/beta/Adam_1/read\nhidden2/kernel/Adam/Initializer/zeros\nhidden2/kernel/Adam\nhidden2/kernel/Adam/Assign\nhidden2/kernel/Adam/read\nhidden2/kernel/Adam_1/Initializer/zeros\nhidden2/kernel/Adam_1\nhidden2/kernel/Adam_1/Assign\nhidden2/kernel/Adam_1/read\nhidden2/bias/Adam/Initializer/zeros\nhidden2/bias/Adam\nhidden2/bias/Adam/Assign\nhidden2/bias/Adam/read\nhidden2/bias/Adam_1/Initializer/zeros\nhidden2/bias/Adam_1\nhidden2/bias/Adam_1/Assign\nhidden2/bias/Adam_1/read\nbatch_normalization_1/gamma/Adam/Initializer/zeros\nbatch_normalization_1/gamma/Adam\nbatch_normalization_1/gamma/Adam/Assign\nbatch_normalization_1/gamma/Adam/read\nbatch_normalization_1/gamma/Adam_1/Initializer/zeros\nbatch_normalization_1/gamma/Adam_1\nbatch_normalization_1/gamma/Adam_1/Assign\nbatch_normalization_1/gamma/Adam_1/read\nbatch_normalization_1/beta/Adam/Initializer/zeros\nbatch_normalization_1/beta/Adam\nbatch_normalization_1/beta/Adam/Assign\nbatch_normalization_1/beta/Adam/read\nbatch_normalization_1/beta/Adam_1/Initializer/zeros\nbatch_normalization_1/beta/Adam_1\nbatch_normalization_1/beta/Adam_1/Assign\nbatch_normalization_1/beta/Adam_1/read\nhidden3/kernel/Adam/Initializer/zeros\nhidden3/kernel/Adam\nhidden3/kernel/Adam/Assign\nhidden3/kernel/Adam/read\nhidden3/kernel/Adam_1/Initializer/zeros\nhidden3/kernel/Adam_1\nhidden3/kernel/Adam_1/Assign\nhidden3/kernel/Adam_1/read\n"
     ]
    },
    {
     "name": "stdout",
     "output_type": "stream",
     "text": [
      "hidden3/bias/Adam/Initializer/zeros\nhidden3/bias/Adam\nhidden3/bias/Adam/Assign\nhidden3/bias/Adam/read\nhidden3/bias/Adam_1/Initializer/zeros\nhidden3/bias/Adam_1\nhidden3/bias/Adam_1/Assign\nhidden3/bias/Adam_1/read\nbatch_normalization_2/gamma/Adam/Initializer/zeros\nbatch_normalization_2/gamma/Adam\nbatch_normalization_2/gamma/Adam/Assign\nbatch_normalization_2/gamma/Adam/read\nbatch_normalization_2/gamma/Adam_1/Initializer/zeros\nbatch_normalization_2/gamma/Adam_1\nbatch_normalization_2/gamma/Adam_1/Assign\nbatch_normalization_2/gamma/Adam_1/read\nbatch_normalization_2/beta/Adam/Initializer/zeros\nbatch_normalization_2/beta/Adam\nbatch_normalization_2/beta/Adam/Assign\nbatch_normalization_2/beta/Adam/read\nbatch_normalization_2/beta/Adam_1/Initializer/zeros\nbatch_normalization_2/beta/Adam_1\nbatch_normalization_2/beta/Adam_1/Assign\nbatch_normalization_2/beta/Adam_1/read\nhidden4/kernel/Adam/Initializer/zeros\nhidden4/kernel/Adam\nhidden4/kernel/Adam/Assign\nhidden4/kernel/Adam/read\nhidden4/kernel/Adam_1/Initializer/zeros\nhidden4/kernel/Adam_1\nhidden4/kernel/Adam_1/Assign\nhidden4/kernel/Adam_1/read\nhidden4/bias/Adam/Initializer/zeros\nhidden4/bias/Adam\nhidden4/bias/Adam/Assign\nhidden4/bias/Adam/read\nhidden4/bias/Adam_1/Initializer/zeros\nhidden4/bias/Adam_1\nhidden4/bias/Adam_1/Assign\nhidden4/bias/Adam_1/read\nbatch_normalization_3/gamma/Adam/Initializer/zeros\nbatch_normalization_3/gamma/Adam\nbatch_normalization_3/gamma/Adam/Assign\nbatch_normalization_3/gamma/Adam/read\nbatch_normalization_3/gamma/Adam_1/Initializer/zeros\nbatch_normalization_3/gamma/Adam_1\nbatch_normalization_3/gamma/Adam_1/Assign\nbatch_normalization_3/gamma/Adam_1/read\nbatch_normalization_3/beta/Adam/Initializer/zeros\nbatch_normalization_3/beta/Adam\nbatch_normalization_3/beta/Adam/Assign\nbatch_normalization_3/beta/Adam/read\nbatch_normalization_3/beta/Adam_1/Initializer/zeros\nbatch_normalization_3/beta/Adam_1\nbatch_normalization_3/beta/Adam_1/Assign\nbatch_normalization_3/beta/Adam_1/read\noutput/kernel/Adam/Initializer/zeros\noutput/kernel/Adam\noutput/kernel/Adam/Assign\noutput/kernel/Adam/read\noutput/kernel/Adam_1/Initializer/zeros\noutput/kernel/Adam_1\noutput/kernel/Adam_1/Assign\noutput/kernel/Adam_1/read\noutput/bias/Adam/Initializer/zeros\noutput/bias/Adam\noutput/bias/Adam/Assign\noutput/bias/Adam/read\noutput/bias/Adam_1/Initializer/zeros\noutput/bias/Adam_1\noutput/bias/Adam_1/Assign\noutput/bias/Adam_1/read\nAdam/learning_rate\nAdam/beta1\nAdam/beta2\nAdam/epsilon\nAdam/update_hidden1/kernel/ApplyAdam\nAdam/update_hidden1/bias/ApplyAdam\nAdam/update_batch_normalization/gamma/ApplyAdam\nAdam/update_batch_normalization/beta/ApplyAdam\nAdam/update_hidden2/kernel/ApplyAdam\nAdam/update_hidden2/bias/ApplyAdam\nAdam/update_batch_normalization_1/gamma/ApplyAdam\nAdam/update_batch_normalization_1/beta/ApplyAdam\nAdam/update_hidden3/kernel/ApplyAdam\nAdam/update_hidden3/bias/ApplyAdam\nAdam/update_batch_normalization_2/gamma/ApplyAdam\nAdam/update_batch_normalization_2/beta/ApplyAdam\nAdam/update_hidden4/kernel/ApplyAdam\nAdam/update_hidden4/bias/ApplyAdam\nAdam/update_batch_normalization_3/gamma/ApplyAdam\nAdam/update_batch_normalization_3/beta/ApplyAdam\nAdam/update_output/kernel/ApplyAdam\nAdam/update_output/bias/ApplyAdam\nAdam/mul\nAdam/Assign\nAdam/mul_1\nAdam/Assign_1\nAdam\nin_top_k/InTopKV2/k\nin_top_k/InTopKV2\nCast\nConst_1\nMean_1\ninit\nsave/Const\nsave/SaveV2/tensor_names\nsave/SaveV2/shape_and_slices\nsave/SaveV2\nsave/control_dependency\nsave/RestoreV2/tensor_names\nsave/RestoreV2/shape_and_slices\nsave/RestoreV2\nsave/Assign\nsave/RestoreV2_1/tensor_names\nsave/RestoreV2_1/shape_and_slices\nsave/RestoreV2_1\nsave/Assign_1\nsave/RestoreV2_2/tensor_names\nsave/RestoreV2_2/shape_and_slices\nsave/RestoreV2_2\nsave/Assign_2\nsave/RestoreV2_3/tensor_names\nsave/RestoreV2_3/shape_and_slices\nsave/RestoreV2_3\nsave/Assign_3\nsave/RestoreV2_4/tensor_names\nsave/RestoreV2_4/shape_and_slices\nsave/RestoreV2_4\nsave/Assign_4\nsave/RestoreV2_5/tensor_names\nsave/RestoreV2_5/shape_and_slices\nsave/RestoreV2_5\nsave/Assign_5\nsave/RestoreV2_6/tensor_names\nsave/RestoreV2_6/shape_and_slices\nsave/RestoreV2_6\nsave/Assign_6\nsave/RestoreV2_7/tensor_names\nsave/RestoreV2_7/shape_and_slices\nsave/RestoreV2_7\nsave/Assign_7\nsave/RestoreV2_8/tensor_names\nsave/RestoreV2_8/shape_and_slices\nsave/RestoreV2_8\nsave/Assign_8\nsave/RestoreV2_9/tensor_names\nsave/RestoreV2_9/shape_and_slices\nsave/RestoreV2_9\nsave/Assign_9\nsave/RestoreV2_10/tensor_names\nsave/RestoreV2_10/shape_and_slices\nsave/RestoreV2_10\nsave/Assign_10\nsave/RestoreV2_11/tensor_names\nsave/RestoreV2_11/shape_and_slices\nsave/RestoreV2_11\nsave/Assign_11\nsave/RestoreV2_12/tensor_names\nsave/RestoreV2_12/shape_and_slices\nsave/RestoreV2_12\nsave/Assign_12\nsave/RestoreV2_13/tensor_names\nsave/RestoreV2_13/shape_and_slices\nsave/RestoreV2_13\nsave/Assign_13\nsave/RestoreV2_14/tensor_names\nsave/RestoreV2_14/shape_and_slices\nsave/RestoreV2_14\nsave/Assign_14\nsave/RestoreV2_15/tensor_names\nsave/RestoreV2_15/shape_and_slices\nsave/RestoreV2_15\nsave/Assign_15\nsave/RestoreV2_16/tensor_names\nsave/RestoreV2_16/shape_and_slices\nsave/RestoreV2_16\nsave/Assign_16\nsave/RestoreV2_17/tensor_names\nsave/RestoreV2_17/shape_and_slices\nsave/RestoreV2_17\nsave/Assign_17\nsave/RestoreV2_18/tensor_names\nsave/RestoreV2_18/shape_and_slices\nsave/RestoreV2_18\nsave/Assign_18\nsave/RestoreV2_19/tensor_names\nsave/RestoreV2_19/shape_and_slices\nsave/RestoreV2_19\nsave/Assign_19\nsave/RestoreV2_20/tensor_names\nsave/RestoreV2_20/shape_and_slices\nsave/RestoreV2_20\nsave/Assign_20\nsave/RestoreV2_21/tensor_names\nsave/RestoreV2_21/shape_and_slices\nsave/RestoreV2_21\nsave/Assign_21\nsave/RestoreV2_22/tensor_names\nsave/RestoreV2_22/shape_and_slices\nsave/RestoreV2_22\nsave/Assign_22\nsave/RestoreV2_23/tensor_names\nsave/RestoreV2_23/shape_and_slices\nsave/RestoreV2_23\nsave/Assign_23\nsave/RestoreV2_24/tensor_names\nsave/RestoreV2_24/shape_and_slices\nsave/RestoreV2_24\nsave/Assign_24\nsave/RestoreV2_25/tensor_names\nsave/RestoreV2_25/shape_and_slices\nsave/RestoreV2_25\nsave/Assign_25\nsave/RestoreV2_26/tensor_names\nsave/RestoreV2_26/shape_and_slices\nsave/RestoreV2_26\nsave/Assign_26\nsave/RestoreV2_27/tensor_names\nsave/RestoreV2_27/shape_and_slices\nsave/RestoreV2_27\nsave/Assign_27\nsave/RestoreV2_28/tensor_names\nsave/RestoreV2_28/shape_and_slices\nsave/RestoreV2_28\nsave/Assign_28\nsave/RestoreV2_29/tensor_names\nsave/RestoreV2_29/shape_and_slices\nsave/RestoreV2_29\nsave/Assign_29\nsave/RestoreV2_30/tensor_names\nsave/RestoreV2_30/shape_and_slices\nsave/RestoreV2_30\nsave/Assign_30\nsave/RestoreV2_31/tensor_names\nsave/RestoreV2_31/shape_and_slices\nsave/RestoreV2_31\nsave/Assign_31\nsave/RestoreV2_32/tensor_names\nsave/RestoreV2_32/shape_and_slices\nsave/RestoreV2_32\nsave/Assign_32\nsave/RestoreV2_33/tensor_names\nsave/RestoreV2_33/shape_and_slices\nsave/RestoreV2_33\nsave/Assign_33\nsave/RestoreV2_34/tensor_names\nsave/RestoreV2_34/shape_and_slices\nsave/RestoreV2_34\nsave/Assign_34\nsave/RestoreV2_35/tensor_names\nsave/RestoreV2_35/shape_and_slices\nsave/RestoreV2_35\nsave/Assign_35\nsave/RestoreV2_36/tensor_names\nsave/RestoreV2_36/shape_and_slices\nsave/RestoreV2_36\nsave/Assign_36\nsave/RestoreV2_37/tensor_names\nsave/RestoreV2_37/shape_and_slices\nsave/RestoreV2_37\nsave/Assign_37\nsave/RestoreV2_38/tensor_names\nsave/RestoreV2_38/shape_and_slices\nsave/RestoreV2_38\nsave/Assign_38\nsave/RestoreV2_39/tensor_names\nsave/RestoreV2_39/shape_and_slices\nsave/RestoreV2_39\nsave/Assign_39\nsave/RestoreV2_40/tensor_names\nsave/RestoreV2_40/shape_and_slices\nsave/RestoreV2_40\nsave/Assign_40\nsave/RestoreV2_41/tensor_names\nsave/RestoreV2_41/shape_and_slices\nsave/RestoreV2_41\nsave/Assign_41\nsave/RestoreV2_42/tensor_names\nsave/RestoreV2_42/shape_and_slices\nsave/RestoreV2_42\nsave/Assign_42\nsave/RestoreV2_43/tensor_names\nsave/RestoreV2_43/shape_and_slices\nsave/RestoreV2_43\nsave/Assign_43\nsave/RestoreV2_44/tensor_names\nsave/RestoreV2_44/shape_and_slices\nsave/RestoreV2_44\nsave/Assign_44\nsave/RestoreV2_45/tensor_names\nsave/RestoreV2_45/shape_and_slices\nsave/RestoreV2_45\nsave/Assign_45\nsave/RestoreV2_46/tensor_names\nsave/RestoreV2_46/shape_and_slices\nsave/RestoreV2_46\nsave/Assign_46\nsave/RestoreV2_47/tensor_names\nsave/RestoreV2_47/shape_and_slices\nsave/RestoreV2_47\nsave/Assign_47\nsave/RestoreV2_48/tensor_names\nsave/RestoreV2_48/shape_and_slices\nsave/RestoreV2_48\nsave/Assign_48\nsave/RestoreV2_49/tensor_names\nsave/RestoreV2_49/shape_and_slices\nsave/RestoreV2_49\nsave/Assign_49\nsave/RestoreV2_50/tensor_names\nsave/RestoreV2_50/shape_and_slices\nsave/RestoreV2_50\nsave/Assign_50\nsave/RestoreV2_51/tensor_names\nsave/RestoreV2_51/shape_and_slices\nsave/RestoreV2_51\nsave/Assign_51\nsave/RestoreV2_52/tensor_names\nsave/RestoreV2_52/shape_and_slices\nsave/RestoreV2_52\nsave/Assign_52\nsave/RestoreV2_53/tensor_names\nsave/RestoreV2_53/shape_and_slices\nsave/RestoreV2_53\nsave/Assign_53\nsave/RestoreV2_54/tensor_names\nsave/RestoreV2_54/shape_and_slices\nsave/RestoreV2_54\nsave/Assign_54\nsave/RestoreV2_55/tensor_names\nsave/RestoreV2_55/shape_and_slices\nsave/RestoreV2_55\nsave/Assign_55\nsave/RestoreV2_56/tensor_names\nsave/RestoreV2_56/shape_and_slices\nsave/RestoreV2_56\nsave/Assign_56\nsave/RestoreV2_57/tensor_names\nsave/RestoreV2_57/shape_and_slices\nsave/RestoreV2_57\nsave/Assign_57\nsave/RestoreV2_58/tensor_names\nsave/RestoreV2_58/shape_and_slices\nsave/RestoreV2_58\nsave/Assign_58\nsave/RestoreV2_59/tensor_names\nsave/RestoreV2_59/shape_and_slices\nsave/RestoreV2_59\nsave/Assign_59\nsave/RestoreV2_60/tensor_names\nsave/RestoreV2_60/shape_and_slices\nsave/RestoreV2_60\nsave/Assign_60\nsave/RestoreV2_61/tensor_names\nsave/RestoreV2_61/shape_and_slices\nsave/RestoreV2_61\nsave/Assign_61\nsave/RestoreV2_62/tensor_names\nsave/RestoreV2_62/shape_and_slices\nsave/RestoreV2_62\nsave/Assign_62\nsave/RestoreV2_63/tensor_names\nsave/RestoreV2_63/shape_and_slices\nsave/RestoreV2_63\nsave/Assign_63\nsave/restore_all\n"
     ]
    }
   ],
   "source": [
    "import tensorflow as tf\n",
    "import numpy as np\n",
    "\n",
    "reset_graph()\n",
    "saver = tf.train.import_meta_graph(\"C:\\Boyuan\\MyPython\\SavedModel\\FiveLayerNNForMNist\\my_model_final.ckpt.meta\")\n",
    "for op in tf.get_default_graph().get_operations():\n",
    "    print(op.name)"
   ]
  },
  {
   "cell_type": "code",
   "execution_count": 16,
   "metadata": {},
   "outputs": [],
   "source": [
    "from IPython.display import clear_output, Image, display, HTML\n",
    "\n",
    "def strip_consts(graph_def, max_const_size=32):\n",
    "    \"\"\"Strip large constant values from graph_def.\"\"\"\n",
    "    strip_def = tf.GraphDef()\n",
    "    for n0 in graph_def.node:\n",
    "        n = strip_def.node.add() \n",
    "        n.MergeFrom(n0)\n",
    "        if n.op == 'Const':\n",
    "            tensor = n.attr['value'].tensor\n",
    "            size = len(tensor.tensor_content)\n",
    "            if size > max_const_size:\n",
    "                tensor.tensor_content = b\"<stripped %d bytes>\"%size\n",
    "    return strip_def\n",
    "\n",
    "def show_graph(graph_def, max_const_size=32):\n",
    "    \"\"\"Visualize TensorFlow graph.\"\"\"\n",
    "    if hasattr(graph_def, 'as_graph_def'):\n",
    "        graph_def = graph_def.as_graph_def()\n",
    "    strip_def = strip_consts(graph_def, max_const_size=max_const_size)\n",
    "    code = \"\"\"\n",
    "        <script>\n",
    "          function load() {{\n",
    "            document.getElementById(\"{id}\").pbtxt = {data};\n",
    "          }}\n",
    "        </script>\n",
    "        <link rel=\"import\" href=\"https://tensorboard.appspot.com/tf-graph-basic.build.html\" onload=load()>\n",
    "        <div style=\"height:600px\">\n",
    "          <tf-graph-basic id=\"{id}\"></tf-graph-basic>\n",
    "        </div>\n",
    "    \"\"\".format(data=repr(str(strip_def)), id='graph'+str(np.random.rand()))\n",
    "\n",
    "    iframe = \"\"\"\n",
    "        <iframe seamless style=\"width:1200px;height:620px;border:0\" srcdoc=\"{}\"></iframe>\n",
    "    \"\"\".format(code.replace('\"', '&quot;'))\n",
    "    display(HTML(iframe))"
   ]
  },
  {
   "cell_type": "code",
   "execution_count": 19,
   "metadata": {},
   "outputs": [],
   "source": [
    "show_graph(tf.get_default_graph())"
   ]
  },
  {
   "cell_type": "code",
   "execution_count": 33,
   "metadata": {},
   "outputs": [],
   "source": [
    "reset_graph()"
   ]
  },
  {
   "cell_type": "code",
   "execution_count": 34,
   "metadata": {},
   "outputs": [],
   "source": [
    "def restore_placeholders():\n",
    "    X = tf.get_default_graph().get_tensor_by_name(\"X:0\")\n",
    "    Y = tf.get_default_graph().get_tensor_by_name(\"Y:0\")\n",
    "    return X, Y"
   ]
  },
  {
   "cell_type": "code",
   "execution_count": 35,
   "metadata": {},
   "outputs": [],
   "source": [
    "def restore_forward_propagation(output_neural_num, regularizer_scale):\n",
    "    he_init = tf.contrib.layers.variance_scaling_initializer()\n",
    "    l1_regularizer = tf.contrib.layers.l1_regularizer(regularizer_scale)\n",
    "    \n",
    "    hidden4 = tf.get_default_graph().get_tensor_by_name(\"hidden4_drop/cond/Merge:0\")\n",
    "    Z_output_new = tf.layers.dense(inputs=hidden4, units=output_neural_num, kernel_initializer=he_init, kernel_regularizer=l1_regularizer, name=\"output_new\")\n",
    "    return Z_output_new"
   ]
  },
  {
   "cell_type": "code",
   "execution_count": 48,
   "metadata": {},
   "outputs": [],
   "source": [
    "import matplotlib.pyplot as plt\n",
    "\n",
    "\n",
    "def restore_model(X_train, Y_train, X_test, Y_test, learning_rate=0.0001, regularizer_scale=0.01,\n",
    "          num_epochs=20, minibatch_size=32, print_cost=True):\n",
    "    (m, n_x) = X_train.shape\n",
    "    costs = []                                        # To keep track of the cost\n",
    "    saver = tf.train.import_meta_graph(\"C:\\Boyuan\\MyPython\\SavedModel\\FiveLayerNNForMNist\\my_model_final.ckpt.meta\")\n",
    "    X, Y = restore_placeholders()\n",
    "    output_neural_num = 5\n",
    "    Z5 = restore_forward_propagation(output_neural_num, regularizer_scale)\n",
    "    with tf.name_scope(\"new_loss\"):\n",
    "        cost = compute_cost(Z5, Y)\n",
    "    with tf.name_scope(\"new_train\"):\n",
    "        optimizer = tf.train.AdamOptimizer(learning_rate=learning_rate, name='Adam_New').minimize(cost)\n",
    "    with tf.name_scope(\"new_eval\"):\n",
    "        correct = tf.nn.in_top_k(Z5, Y, 1)\n",
    "        accuracy = tf.reduce_mean(tf.cast(correct, tf.float32))\n",
    "    \n",
    "    # Initialize all the variables\n",
    "    init = tf.global_variables_initializer()\n",
    "    new_saver = tf.train.Saver()\n",
    "    \n",
    "    # Start the session to compute the tensorflow graph\n",
    "    with tf.Session() as sess:\n",
    "        # Run the initialization\n",
    "        sess.run(init)\n",
    "        saver.restore(sess, \"C:\\Boyuan\\MyPython\\SavedModel\\FiveLayerNNForMNist\\my_model_final.ckpt\")\n",
    "        for epoch in range(num_epochs):\n",
    "            epoch_cost = 0\n",
    "            shuffled_idx = np.random.permutation(m)\n",
    "            num_minibatches = X_train.shape[0] // minibatch_size\n",
    "            batches = np.array_split(shuffled_idx, num_minibatches)\n",
    "            \n",
    "            for batch in batches:\n",
    "                X_batch, Y_batch = X_train[batch], Y_train[batch]\n",
    "                # for training, need to set flag training of batch_normalization() to true\n",
    "                _, minibatch_cost = sess.run([optimizer, cost], feed_dict={X: X_batch, Y: Y_batch})  \n",
    "                epoch_cost += minibatch_cost / num_minibatches\n",
    "                \n",
    "            if epoch % 10 == 0:\n",
    "                acc_train = accuracy.eval(feed_dict={X: X_train, Y: Y_train})  # for testing, leave training param for batch_normalization() to false\n",
    "                acc_test = accuracy.eval(feed_dict={X: X_test, Y: Y_test})\n",
    "                print(epoch, \"Train accuracy: \", acc_train, \"Test accuracy: \", acc_test)\n",
    "            # Print the cost every epoch\n",
    "            if print_cost is True and epoch % 20 == 0:\n",
    "                print (\"Cost after epoch %i: %f\" % (epoch, epoch_cost))\n",
    "            if print_cost is True and epoch % 5 == 0:\n",
    "                costs.append(epoch_cost)\n",
    "                \n",
    "        # plot the cost\n",
    "        plt.plot(np.squeeze(costs))\n",
    "        plt.ylabel('cost')\n",
    "        plt.xlabel('iterations (per tens)')\n",
    "        plt.title(\"Learning rate =\" + str(learning_rate))\n",
    "        plt.show()\n",
    "        \n",
    "        save_path = new_saver.save(sess, \"C:\\Boyuan\\MyPython\\SavedModel\\FiveLayerNNForMNist_New\\my_model_final.ckpt\")"
   ]
  },
  {
   "cell_type": "code",
   "execution_count": 49,
   "metadata": {},
   "outputs": [
    {
     "name": "stdout",
     "output_type": "stream",
     "text": [
      "INFO:tensorflow:Restoring parameters from C:\\Boyuan\\MyPython\\SavedModel\\FiveLayerNNForMNist\\my_model_final.ckpt\n"
     ]
    },
    {
     "name": "stdout",
     "output_type": "stream",
     "text": [
      "0 Train accuracy:  0.99333 Test accuracy:  0.986962\nCost after epoch 0: 0.252363\n"
     ]
    },
    {
     "name": "stdout",
     "output_type": "stream",
     "text": [
      "10 Train accuracy:  1.0 Test accuracy:  0.993578\n"
     ]
    },
    {
     "data": {
      "image/png": "[encoded data removed]",
      "text/plain": [
       "<matplotlib.figure.Figure at 0x252e49258d0>"
      ]
     },
     "metadata": {},
     "output_type": "display_data"
    }
   ],
   "source": [
    "reset_graph()\n",
    "\n",
    "restore_model(X_train1, y_train1, X_test1, y_test1)"
   ]
  },
  {
   "cell_type": "code",
   "execution_count": null,
   "metadata": {},
   "outputs": [],
   "source": []
  },
  {
   "cell_type": "code",
   "execution_count": null,
   "metadata": {},
   "outputs": [],
   "source": []
  },
  {
   "cell_type": "code",
   "execution_count": null,
   "metadata": {},
   "outputs": [],
   "source": []
  },
  {
   "cell_type": "code",
   "execution_count": null,
   "metadata": {},
   "outputs": [],
   "source": []
  },
  {
   "cell_type": "code",
   "execution_count": null,
   "metadata": {},
   "outputs": [],
   "source": []
  },
  {
   "cell_type": "code",
   "execution_count": null,
   "metadata": {},
   "outputs": [],
   "source": []
  },
  {
   "cell_type": "code",
   "execution_count": null,
   "metadata": {},
   "outputs": [],
   "source": []
  },
  {
   "cell_type": "code",
   "execution_count": null,
   "metadata": {},
   "outputs": [],
   "source": []
  },
  {
   "cell_type": "code",
   "execution_count": null,
   "metadata": {},
   "outputs": [],
   "source": []
  },
  {
   "cell_type": "code",
   "execution_count": null,
   "metadata": {},
   "outputs": [],
   "source": []
  },
  {
   "cell_type": "code",
   "execution_count": null,
   "metadata": {},
   "outputs": [],
   "source": []
  },
  {
   "cell_type": "code",
   "execution_count": null,
   "metadata": {},
   "outputs": [],
   "source": []
  },
  {
   "cell_type": "code",
   "execution_count": null,
   "metadata": {},
   "outputs": [],
   "source": []
  },
  {
   "cell_type": "code",
   "execution_count": null,
   "metadata": {},
   "outputs": [],
   "source": []
  },
  {
   "cell_type": "code",
   "execution_count": null,
   "metadata": {},
   "outputs": [],
   "source": []
  },
  {
   "cell_type": "code",
   "execution_count": null,
   "metadata": {},
   "outputs": [],
   "source": []
  },
  {
   "cell_type": "code",
   "execution_count": null,
   "metadata": {},
   "outputs": [],
   "source": []
  },
  {
   "cell_type": "code",
   "execution_count": null,
   "metadata": {},
   "outputs": [],
   "source": []
  },
  {
   "cell_type": "code",
   "execution_count": null,
   "metadata": {},
   "outputs": [],
   "source": []
  },
  {
   "cell_type": "code",
   "execution_count": null,
   "metadata": {},
   "outputs": [],
   "source": []
  },
  {
   "cell_type": "code",
   "execution_count": null,
   "metadata": {},
   "outputs": [],
   "source": []
  },
  {
   "cell_type": "code",
   "execution_count": null,
   "metadata": {},
   "outputs": [],
   "source": []
  },
  {
   "cell_type": "code",
   "execution_count": null,
   "metadata": {},
   "outputs": [],
   "source": []
  }
 ],
 "metadata": {
  "kernelspec": {
   "display_name": "Python 2",
   "language": "python",
   "name": "python2"
  },
  "language_info": {
   "codemirror_mode": {
    "name": "ipython",
    "version": 2
   },
   "file_extension": ".py",
   "mimetype": "text/x-python",
   "name": "python",
   "nbconvert_exporter": "python",
   "pygments_lexer": "ipython2",
   "version": "2.7.6"
  }
 },
 "nbformat": 4,
 "nbformat_minor": 0
}
