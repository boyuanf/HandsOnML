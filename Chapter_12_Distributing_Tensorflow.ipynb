{
 "cells": [
  {
   "cell_type": "code",
   "execution_count": 2,
   "metadata": {
    "collapsed": true
   },
   "outputs": [],
   "source": [
    "import tensorflow as tf"
   ]
  },
  {
   "cell_type": "markdown",
   "metadata": {},
   "source": [
    "## 1. Enqueuing & Dequeuing single data"
   ]
  },
  {
   "cell_type": "code",
   "execution_count": 5,
   "metadata": {},
   "outputs": [
    {
     "name": "stdout",
     "output_type": "stream",
     "text": [
      "[ 1.  2.]\n[ 3.  4.]\n[ 5.  6.]\n"
     ]
    }
   ],
   "source": [
    "q = tf.FIFOQueue(capacity=10, dtypes=[tf.float32], shapes=[[2]], name=\"q\", shared_name=\"shared_q\")\n",
    "training_instance = tf.placeholder(tf.float32, shape=(2))\n",
    "enqueue = q.enqueue([training_instance])\n",
    "dequeue = q.dequeue()\n",
    "\n",
    "with tf.Session() as sess:\n",
    "    sess.run(enqueue, feed_dict={training_instance: [1., 2.]})\n",
    "    sess.run(enqueue, feed_dict={training_instance: [3., 4.]})\n",
    "    sess.run(enqueue, feed_dict={training_instance: [5., 6.]})\n",
    "    print(sess.run(dequeue))\n",
    "    print(sess.run(dequeue))\n",
    "    print(sess.run(dequeue))"
   ]
  },
  {
   "cell_type": "code",
   "execution_count": 3,
   "metadata": {},
   "outputs": [
    {
     "data": {
      "text/plain": [
       "<tensorflow.python.ops.data_flow_ops.FIFOQueue at 0x1bf08d8bb38>"
      ]
     },
     "execution_count": 3,
     "metadata": {},
     "output_type": "execute_result"
    }
   ],
   "source": [
    "q"
   ]
  },
  {
   "cell_type": "markdown",
   "metadata": {},
   "source": [
    "## 2. Enqueuing & Dequeuing many data"
   ]
  },
  {
   "cell_type": "code",
   "execution_count": 2,
   "metadata": {},
   "outputs": [
    {
     "name": "stdout",
     "output_type": "stream",
     "text": [
      "[[ 11.  22.]\n [ 33.  44.]]\n"
     ]
    }
   ],
   "source": [
    "q_many = tf.FIFOQueue(capacity=10, dtypes=[tf.float32], shapes=[[2]], name=\"q_many\", shared_name=\"shared_q_many\")\n",
    "training_instance_many = tf.placeholder(tf.float32, shape=(None, 2))\n",
    "enqueue_many = q_many.enqueue_many([training_instance_many])\n",
    "batch_size = 2\n",
    "dequeue_mini_batch = q_many.dequeue_many(batch_size)\n",
    "\n",
    "with tf.Session() as sess:\n",
    "    sess.run(enqueue_many, feed_dict={training_instance_many: [[11., 22.], [33., 44.], [55., 66.]]})\n",
    "    print(sess.run(dequeue_mini_batch))"
   ]
  },
  {
   "cell_type": "markdown",
   "metadata": {},
   "source": [
    "## 3. Queues of tuples"
   ]
  },
  {
   "cell_type": "code",
   "execution_count": 10,
   "metadata": {},
   "outputs": [
    {
     "name": "stdout",
     "output_type": "stream",
     "text": [
      "10\n[[ 1.  2.]\n [ 3.  4.]\n [ 5.  6.]]\n[11 12]\n[[[ 7.  2.]\n  [ 8.  4.]\n  [ 9.  6.]]\n\n [[ 3.  2.]\n  [ 6.  4.]\n  [ 1.  6.]]]\n"
     ]
    }
   ],
   "source": [
    "q_tuple = tf.FIFOQueue(capacity=10, dtypes=[tf.int32, tf.float32], shapes=[[], [3, 2]], name=\"q_tuple\", \n",
    "                       shared_name=\"shared_q_tuple\")\n",
    "a = tf.placeholder(tf.int32, shape=())\n",
    "b = tf.placeholder(tf.float32, shape=(3, 2))\n",
    "enqueue = q_tuple.enqueue((a, b))\n",
    "dequeue_a, dequeue_b = q_tuple.dequeue()\n",
    "batch_size = 2\n",
    "dequeue_as, dequeue_bs = q_tuple.dequeue_many(batch_size)\n",
    "\n",
    "with tf.Session() as sess:\n",
    "    sess.run(enqueue, feed_dict={a: 10, b: [[1., 2.], [3., 4.], [5., 6.]]})\n",
    "    sess.run(enqueue, feed_dict={a: 11, b: [[7., 2.], [8., 4.], [9., 6.]]})\n",
    "    sess.run(enqueue, feed_dict={a: 12, b: [[3., 2.], [6., 4.], [1., 6.]]})\n",
    "    a_val, b_val = sess.run([dequeue_a, dequeue_b])\n",
    "    print(a_val)\n",
    "    print(b_val)\n",
    "    a, b = sess.run([dequeue_as, dequeue_bs])\n",
    "    print(a)\n",
    "    print(b)"
   ]
  },
  {
   "cell_type": "code",
   "execution_count": 4,
   "metadata": {},
   "outputs": [
    {
     "name": "stdout",
     "output_type": "stream",
     "text": [
      "/job:localhost/replica:0/task:0/device:CPU:0\n"
     ]
    }
   ],
   "source": [
    "devices = sess.list_devices()\n",
    "for d in devices:\n",
    "  print(d.name)"
   ]
  },
  {
   "cell_type": "markdown",
   "metadata": {},
   "source": [
    "## 4. RandomShuffleQueue"
   ]
  },
  {
   "cell_type": "code",
   "execution_count": 3,
   "metadata": {},
   "outputs": [
    {
     "name": "stdout",
     "output_type": "stream",
     "text": [
      "[ 3.  4.  3.]\n[  3.00000000e+00   4.00000000e+00   1.11110000e+04]\n[ 2.  4.  2.]\n"
     ]
    }
   ],
   "source": [
    "q = tf.RandomShuffleQueue(capacity=30, min_after_dequeue=10, dtypes=[tf.float32], shapes=[()],\n",
    "                          name=\"q_random\", shared_name=\"shared_q_random\")\n",
    "training_instance = tf.placeholder(tf.float32, shape=(None, ))\n",
    "enqueue = q.enqueue_many([training_instance])\n",
    "dequeue = q.dequeue_many(3)\n",
    "\n",
    "with tf.Session() as sess:\n",
    "    sess.run(enqueue, feed_dict={training_instance: [1., 2., 3., 4., 5.]})\n",
    "    sess.run(enqueue, feed_dict={training_instance: [11., 2., 3., 4., 5.]})\n",
    "    sess.run(enqueue, feed_dict={training_instance: [111., 2., 3., 4., 5.]})\n",
    "    sess.run(enqueue, feed_dict={training_instance: [11111., 2., 3., 4., 5.]})\n",
    "    sess.run(enqueue, feed_dict={training_instance: [123., 2., 3., 4., 5.]})\n",
    "    print(sess.run(dequeue))\n",
    "    print(sess.run(dequeue))\n",
    "    # if we set dequeue batch size to 6, then the last can't dequeue, because min_after_dequeue=10\n",
    "    print(sess.run(dequeue)) "
   ]
  },
  {
   "cell_type": "markdown",
   "metadata": {},
   "source": [
    "## 5. PaddingFifiQueue"
   ]
  },
  {
   "cell_type": "code",
   "execution_count": 5,
   "metadata": {},
   "outputs": [
    {
     "name": "stdout",
     "output_type": "stream",
     "text": [
      "[[[ 1.  2.  0.  0.]\n  [ 3.  4.  0.  0.]\n  [ 5.  6.  0.  0.]]\n\n [[ 1.  0.  0.  0.]\n  [ 0.  0.  0.  0.]\n  [ 0.  0.  0.  0.]]\n\n [[ 7.  8.  9.  5.]\n  [ 6.  7.  8.  9.]\n  [ 0.  0.  0.  0.]]]\n"
     ]
    }
   ],
   "source": [
    "q_padding = tf.PaddingFIFOQueue(capacity=50, dtypes=[tf.float32], shapes=[(None, None)], \n",
    "                                name=\"q_padding\", shared_name=\"shared_q_padding\")\n",
    "v = tf.placeholder(tf.float32, shape=(None, None))\n",
    "enqueue = q_padding.enqueue([v])\n",
    "dequeue = q_padding.dequeue_many(3)\n",
    "\n",
    "with tf.Session() as sess:\n",
    "    sess.run(enqueue, feed_dict={v: [[1., 2.], [3., 4.], [5., 6.]]})        # 3x2\n",
    "    sess.run(enqueue, feed_dict={v: [[1.]]})                                # 1x1\n",
    "    sess.run(enqueue, feed_dict={v: [[7., 8., 9., 5.], [6., 7., 8., 9.]]})  # 2x4\n",
    "    print(sess.run(dequeue))"
   ]
  },
  {
   "cell_type": "code",
   "execution_count": null,
   "metadata": {},
   "outputs": [],
   "source": []
  },
  {
   "cell_type": "code",
   "execution_count": null,
   "metadata": {},
   "outputs": [],
   "source": []
  },
  {
   "cell_type": "code",
   "execution_count": null,
   "metadata": {},
   "outputs": [],
   "source": []
  },
  {
   "cell_type": "code",
   "execution_count": null,
   "metadata": {},
   "outputs": [],
   "source": []
  }
 ],
 "metadata": {
  "kernelspec": {
   "display_name": "Python 2",
   "language": "python",
   "name": "python2"
  },
  "language_info": {
   "codemirror_mode": {
    "name": "ipython",
    "version": 2
   },
   "file_extension": ".py",
   "mimetype": "text/x-python",
   "name": "python",
   "nbconvert_exporter": "python",
   "pygments_lexer": "ipython2",
   "version": "2.7.6"
  }
 },
 "nbformat": 4,
 "nbformat_minor": 0
}
